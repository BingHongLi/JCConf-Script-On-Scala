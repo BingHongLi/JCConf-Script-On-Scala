{
 "cells": [
  {
   "cell_type": "code",
   "execution_count": null,
   "metadata": {
    "collapsed": true
   },
   "outputs": [],
   "source": [
    "/*\n",
    "Step1-變數宣告，可用val or var\n",
    "\n",
    "var 參照至某一物件後，事後仍可以改參照到其他物件\n",
    "val 會綁定參照物件，事後不得再改參照\n",
    "*/\n",
    "\n",
    "var fixRefer = 1\n",
    "val flexRefer = 10\n",
    "fixRefer = 2\n",
    "flexRefer = 5  // 會報 error，原因是 以val所宣告的變數，不得更改參照"
   ]
  },
  {
   "cell_type": "code",
   "execution_count": null,
   "metadata": {
    "collapsed": true
   },
   "outputs": [],
   "source": [
    "/*\n",
    "在做變數宣告的時候，Scala具有型別推論之特色\n",
    "可以在宣告變數時，同時宣告型別\n",
    "也可以在宣告變數時，不宣告型別\n",
    "接續Lab1，讓學員做操作\n",
    "*/\n",
    "var imString:String = \"type identity clear\"\n",
    "var imString2 =  \"type infer\""
   ]
  },
  {
   "cell_type": "code",
   "execution_count": null,
   "metadata": {
    "collapsed": true
   },
   "outputs": [],
   "source": [
    "/*\n",
    "Lab1 \n",
    "\n",
    "使用val 宣告一個變數，並嘗試改變其內容值\n",
    "使用var 宣告一個變數，並嘗試改變其內容值\n",
    "*/"
   ]
  },
  {
   "cell_type": "code",
   "execution_count": null,
   "metadata": {
    "collapsed": true
   },
   "outputs": [],
   "source": [
    "/*\n",
    "Step2-介紹常見的資料型態\n",
    "\n",
    "Scala為了追求 pure的 物件導向，\n",
    "針對java 該些primitive data type，做了封裝，\n",
    "在調用基本資料型態的時候，其實也是在調用一個物件。\n",
    "\n",
    "此處僅介紹String, Int, Double\n",
    "*/\n",
    "var imString:String =  \"hello world\"\n",
    "var imInt : Int = 45\n",
    "var imDouble : Double = 45.0"
   ]
  },
  {
   "cell_type": "code",
   "execution_count": null,
   "metadata": {
    "collapsed": true
   },
   "outputs": [],
   "source": [
    "/*\n",
    "Lab2\n",
    "\n",
    "宣告一個變數，內容為字串，值需要為 \"Hello JCConf\"\n",
    "宣告一個變數，內容為整數，值需要為 2017\n",
    "拼貼成 一個新字串\n",
    "*/"
   ]
  },
  {
   "cell_type": "code",
   "execution_count": null,
   "metadata": {
    "collapsed": true
   },
   "outputs": [],
   "source": [
    "/*\n",
    "Step3-介紹常見的集合型態，mutable collection 及 immutable collection\n",
    "\n",
    "scala在設計上是針對大規模資料的平行處理，\n",
    "在這情況下，若資料能以immutable的方式存在，當他人取用的時候，也不需要擔心資料狀態變更的後續問題，\n",
    "但仍保有了mutable collection，開發者仍能以mutable 的方式進行開發，\n",
    "\n",
    "接下來的範例，我們盡可能會以mutable的方式做介紹，未來有機會，大家再自行挑戰immutable的特性。\n",
    "\n",
    "*/\n",
    "\n",
    "// 觀察看看immutable 及 mutable collection兩者間有何差異\n",
    "\n",
    "// immutable collection\n",
    "var immutableList = List(1,2,3)\n",
    "println(immutableList.::(4))\n",
    "println(immutableList)\n",
    "\n",
    "// mutable collection\n",
    "var mutableList = scala.collection.mutable.ListBuffer(1,2,3)\n",
    "println(mutableList.+=:(4))\n",
    "println(mutableList)"
   ]
  },
  {
   "cell_type": "code",
   "execution_count": null,
   "metadata": {
    "collapsed": true
   },
   "outputs": [],
   "source": [
    "/*\n",
    "Lab3\n",
    "\n",
    "宣告一個mutable 的 ListBuffer ，並在後方加上值\n",
    "需取得一個 ListBuffer[Int](1,2,3,4)\n",
    "宣告一個immutable 的 List ，並在後方加上值\n",
    "需取得一個 List[Int](1,2,3,4)\n",
    "宣告一個mutable的 Map，並在裡面加入資料\n",
    "需取得一個 Map[String,Int](\"id\"->1,\"score\"->45)\n",
    "*/"
   ]
  },
  {
   "cell_type": "code",
   "execution_count": null,
   "metadata": {
    "collapsed": false
   },
   "outputs": [],
   "source": [
    "/*\n",
    "Step4-tuple\n",
    "\n",
    "在做方法傳遞時，我們經常會想要傳回一個可以具有不同資料型態的collection。\n",
    "在過去常見的做法，寫一個class，將想要的資料變數在class中進行宣告，透過new instance後，將該instance傳回。\n",
    "\n",
    "我們可以改用tuple，將元素裝入tuple中，將tuple傳回。\n",
    "*/\n",
    "\n",
    "val imTuple = (\"Hello JCConf\",2017)\n",
    "println(imTuple._1)\n",
    "println(imTuple._2)\n",
    "def returnTuple(i:Int):(Int,String)={\n",
    "  (i,s\"This is $i\")\n",
    "}\n",
    "println(returnTuple(2))"
   ]
  },
  {
   "cell_type": "code",
   "execution_count": null,
   "metadata": {
    "collapsed": true
   },
   "outputs": [],
   "source": [
    "/*\n",
    "Lab4\n",
    "\n",
    "創立一組tuple3，並嘗試從tuple3中取出值\n",
    "*/"
   ]
  },
  {
   "cell_type": "code",
   "execution_count": null,
   "metadata": {
    "collapsed": false
   },
   "outputs": [],
   "source": [
    "/*\n",
    "Step5-forloop 介紹\n",
    "\n",
    "Scala兼具了imperative 與 declarative 兩種風格的編寫style\n",
    "此處介紹imperative風格的forloop方式\n",
    "\n",
    "*/\n",
    "\n",
    "// 創立一個集合\n",
    "var forLoopArray = 0 to 4 // Range(0,1,2,3,4)\n",
    "\n",
    "// 直接將 collection 當作迭代器，將個別元素放入迴圈中操作\n",
    "for(i <- forLoopArray){\n",
    "  print(i+\",\")  // 印出陣列內的元素\n",
    "}\n",
    "println()\n",
    "\n",
    "// 亦可改用序列號做操作\n",
    "// 0 to 5  ->  0,1,2,3,4,5\n",
    "for(i <- 0 to forLoopArray.length){\n",
    "  print(i+\",\")  // 印出序列號\n",
    "} \n",
    "println()\n",
    "\n",
    "// 0 until 5 -> 0,1,2,3,4\n",
    "// 印出序列號 0,1,2,3,4\n",
    "for(i <- 0 until forLoopArray.length ){\n",
    "  print(i+\",\")  \n",
    "}\n",
    "println()\n",
    "\n",
    "// 在for loop中加入條件式，篩選要放入迴圈中操作的元素\n",
    "// 印出 3,4,\n",
    "for(i <- 0 to 4 ;\n",
    "  if i > 2){\n",
    "  print(i+\",\") // 只印出 3, 4  \n",
    "}\n",
    "println()\n",
    "\n",
    "// 把for loop 每次操作的結果塞到一個collection中（Vector）\n",
    "// 印出 Vector(1,2,3,4,5,6)\n",
    "val yieldDemo = for(i<- 0 to 5) yield { i +1 }\n",
    "println(yieldDemo)"
   ]
  },
  {
   "cell_type": "code",
   "execution_count": null,
   "metadata": {
    "collapsed": true
   },
   "outputs": [],
   "source": [
    "/*\n",
    "Lab5\n",
    "\n",
    "利用basicRange 此 collection，做出 ArrayBuffer(5,6,7,8,9)\n",
    "利用basicRange，做出 ArrayBuffer(0,2,4) \n",
    "*/\n",
    "var basicRange  = 0 to 4"
   ]
  },
  {
   "cell_type": "code",
   "execution_count": null,
   "metadata": {
    "collapsed": false
   },
   "outputs": [],
   "source": [
    "/*\n",
    "Step6-調用Java library\n",
    "\n",
    "Scala有一個迷人的特色，相容於java，能夠在程式碼中調用java的套件，\n",
    "因此使用scala，並不會像是完全重學一款語言，仍能夠奠基在jvm上使用java社群那些豐富迷人的套件\n",
    "\n",
    "調用時，需要注意的部分是 collection的轉換，\n",
    "java套件在使用時，是以java的collection做輸出；而Scala自有其collection，\n",
    "我們若要使用scala的特色進行開發，則需要將java的collection 轉換成scala的collection。\n",
    "\n",
    "反之亦然，若我們要將scala的collection 丟入java套件使用時，也需要將scala的collection轉換成java的collection\n",
    "*/\n",
    "\n",
    "// 引入轉換套件\n",
    "import collection.JavaConverters._\n",
    "\n",
    "// 將scala的mutable Array 轉換成java的List\n",
    "import scala.collection.mutable.ArrayBuffer\n",
    "val scalaArrayToJavaList = ArrayBuffer(1, 2, 3).asJava\n",
    "\n",
    "// 將java的List 轉換成scala的Seq\n",
    "val javaListToScalaSeq = scalaArrayToJavaList.asScala\n",
    "\n",
    "// 使用java套件瀏覽檔案\n",
    "import java.io.File\n",
    "val directorJavaArray = new File(\".\").listFiles\n",
    "\n"
   ]
  },
  {
   "cell_type": "code",
   "execution_count": null,
   "metadata": {
    "collapsed": false
   },
   "outputs": [],
   "source": [
    "/*\n",
    "Lab6\n",
    "\n",
    "引用java的ArrayList\n",
    "將javaList轉換成 scala的collection，並用迴圈將內容改成 4,5,6\n",
    "\n",
    "*/\n"
   ]
  },
  {
   "cell_type": "code",
   "execution_count": null,
   "metadata": {
    "collapsed": true
   },
   "outputs": [],
   "source": [
    "/*\n",
    "Step7-介紹Scala script\n",
    "\n",
    "面對一些簡單工作或頻繁更動的小需求，我們可能未必傾向開一個專案資料夾，在裡面進行任務開發，而後編譯jar檔出來執行。\n",
    "這種情境下，我們更傾向用script來完成任務\n",
    "\n",
    "scala 能以腳本的方式編輯開發，同時使用sbt將所需套件在執行時引入。\n",
    "\n",
    "此處我們使用官方建議的scalas做體驗\n",
    "\n",
    "範例詳見 Demo6.scala\n",
    "\n",
    "*/"
   ]
  },
  {
   "cell_type": "code",
   "execution_count": null,
   "metadata": {
    "collapsed": true
   },
   "outputs": [],
   "source": [
    "/*\n",
    "Lab7\n",
    "\n",
    "在jupyter notebook，點開lab6.scala\n",
    "照著講義上樣板，撰寫一個 scalas的樣板\n",
    "在terminal 執行scalas lab6.scala hello world\n",
    "需印出 hello world\n",
    "*/"
   ]
  },
  {
   "cell_type": "code",
   "execution_count": null,
   "metadata": {
    "collapsed": false
   },
   "outputs": [],
   "source": [
    "/*\n",
    "Step8-使用sbt載入開源套件，進行資料清洗\n",
    "  \n",
    "使用sbt載入java的jsoup套件\n",
    "並讀取step8.html\n",
    "透過jsoup套件，擷取內容，生成csv\n",
    "*/\n",
    "\n",
    "// jupyter 載入套件的方式較殊異，因其以Ammo做sbt的封裝。\n",
    "classpath.add(\n",
    "  \"org.jsoup\" % \"jsoup\" % \"1.10.3\"\n",
    ")\n",
    "\n",
    "// 引入jsoup套件\n",
    "import org.jsoup.Jsoup\n",
    "\n",
    "// 載入檔案\n",
    "var htmlFile = new java.io.File(\"step8.html\")\n",
    "var doc = Jsoup.parse(htmlFile,\"UTF-8\")\n",
    "\n",
    "// 找出標籤tr，並轉換成迭代器\n",
    "var elements = doc.body().select(\"table.auto-style1\").select(\"tr\").iterator().asScala\n",
    "\n",
    "// 進一步將tr內的td文字取出，並以 | 做分隔\n",
    "var resultIterator = for(element <- elements) yield {\n",
    "  element.select(\"td\").eachText().asScala.mkString(\"|\")\n",
    "}\n",
    "\n",
    "// 將迭代器內的元素拼湊成字串，並以換行符號分隔\n",
    "var result = resultIterator.mkString(\"\\r\\n\")"
   ]
  },
  {
   "cell_type": "code",
   "execution_count": null,
   "metadata": {
    "collapsed": false
   },
   "outputs": [],
   "source": [
    "/*\n",
    "Lab8\n",
    "\n",
    "透過前面所學的Step1-7與Lab1-7，完成此Lab\n",
    "使用scala script，讀取Lab8.html，引入Jsoup套件，使用Jsoup套件萃取威力彩數據，並整理成一份 欄位分隔之資料\n",
    "*/"
   ]
  },
  {
   "cell_type": "code",
   "execution_count": null,
   "metadata": {
    "collapsed": true
   },
   "outputs": [],
   "source": [
    "/*\n",
    "Congratulations\n",
    "\n",
    "你已經完成了課程的很大一部分，\n",
    "我們準備開始往下一階段體驗 imperative 與 declarative 的差異。\n",
    "\n",
    "*/"
   ]
  }
 ],
 "metadata": {
  "kernelspec": {
   "display_name": "Scala 2.11",
   "language": "scala211",
   "name": "scala211"
  },
  "language_info": {
   "codemirror_mode": "text/x-scala",
   "file_extension": ".scala",
   "mimetype": "text/x-scala",
   "name": "scala211",
   "pygments_lexer": "scala",
   "version": "2.11.7"
  }
 },
 "nbformat": 4,
 "nbformat_minor": 1
}

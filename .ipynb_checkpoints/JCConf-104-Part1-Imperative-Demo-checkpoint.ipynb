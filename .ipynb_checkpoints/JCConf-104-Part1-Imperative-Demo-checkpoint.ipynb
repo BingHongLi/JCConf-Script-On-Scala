{
 "cells": [
  {
   "cell_type": "code",
   "execution_count": null,
   "metadata": {
    "collapsed": true
   },
   "outputs": [],
   "source": [
    "/*\n",
    "\n",
    "在這個Demo中，\n",
    "我們會以scalaj-http抓取104關於java的數據\n",
    "並透過play-json抓出各工作的地點，並統計出各地區對於java工程師的需求量\n",
    "再透過vegas，做資料可視化\n",
    "\n",
    "*/"
   ]
  },
  {
   "cell_type": "code",
   "execution_count": 1,
   "metadata": {
    "collapsed": false
   },
   "outputs": [
    {
     "name": "stdout",
     "output_type": "stream",
     "text": [
      "Adding 50 artifact(s)\n"
     ]
    },
    {
     "data": {
      "text/plain": []
     },
     "metadata": {},
     "output_type": "display_data"
    }
   ],
   "source": [
    "// 載入套件\n",
    "classpath.add(\n",
    "\n",
    "  \"org.scalaj\" %% \"scalaj-http\" % \"2.3.0\",\n",
    "  \"com.typesafe.play\" %% \"play-json\" % \"2.6.2\",\n",
    "  \n",
    "  \"org.vegas-viz\" %% \"vegas\" % \"0.3.9\",\n",
    "  \n",
    "  \"org.http4s\" %% \"http4s-dsl\" % \"0.15.16a\",\n",
    "  \"org.http4s\" %% \"http4s-blaze-server\" % \"0.15.16a\",\n",
    "  \"org.http4s\" %% \"http4s-blaze-client\" % \"0.15.16a\"\n",
    ")"
   ]
  },
  {
   "cell_type": "code",
   "execution_count": 2,
   "metadata": {
    "collapsed": false
   },
   "outputs": [
    {
     "data": {
      "text/plain": [
       "\u001b[32mimport \u001b[36mscalaj.http._\u001b[0m\n",
       "\u001b[36mresponse\u001b[0m: \u001b[32mscalaj\u001b[0m.\u001b[32mhttp\u001b[0m.\u001b[32mHttpResponse\u001b[0m[\u001b[32mString\u001b[0m] = \u001b[33mHttpResponse\u001b[0m(\n",
       "  \u001b[32m\"\"\"\n",
       "{\"RECORDCOUNT\":\"4774\",\"PAGECOUNT\":\"50\",\"PAGE\":\"1\",\"TOTALPAGE\":\"96\",\"data\":[{\"ADDRESS\":\"瑞光路408號10樓之1\",\"ADDR_INDZONE\":\"\",\"ADDR_NO_DESCRIPT\":\"台北市內湖區\",\"APPEAR_DATE\":\"20170813\",\"APPEAR_TIME\":\"20170813141524\",\"C\":\"423c446d3638406932343c653a40381b82b2b2b704238562664j50\",\"CERT_ALL_DESCRIPT\":\"\",\"DESCRIPTION\":\"Windows application and device driver development .\",\"DIS_LEVEL\":\"0\",\"DIS_LEVEL2\":\"0\",\"DIS_LEVEL3\":\"0\",\"DIS_ROLE\":\"0\",\"DIS_ROLE2\":\"0\",\"DIS_ROLE3\":\"0\",\"DRIVER\":\"0\",\"HANDICOMPENDIUM\":\"0\",\"INDCAT\":\"IC設計\",\"J\":\"47414b745d73502b5939416d3b353d6643f4149723b3d456e434941242424242204c77493816j55\",\"JOB\":\"軟體工程師\",\"JOBCAT_DESCRIPT\":\"韌體設計工程師@軟體設計工程師@類目\",\"JOBSKILL_ALL_DESC\":\"\",\"JOB_ADDRESS\":\"瑞光路408號10樓之1\",\"JOB_ADDR_NO_DESCRIPT\":\"台北市內湖區\",\"LANGUAGE1\":\"018488\",\"LANGUAGE2\":\"001111\",\"LANGUAGE3\":\"001111\",\"LAT\":\"25.0780877\",\"LINK\":\"\",\"LON\":\"121.5704929\",\"MAJOR_CAT_DESCRIPT\":\"工程學科類@類目@類目\",\"MINBINARY_EDU\":\"8\",\"NAME\":\"大象科技股份有限公司\",\"NEED_EMP\":\"1\",\"NEED_EMP1\":\"2\",\"OTHERS\":\"1. Familiar with Java, C/C++, or Objective-C.\\n2. Familiar with software test procedures\\n3. Good Debugging Skill\\n4. Familiar with version control tools\\n5. Experience in developing Windows 8 APP is a plus\\n6. Experience in developing Windows application and device driver is a plus\",\"PCSKILL_ALL_DESC\":\"C C++ Java Visual Studio Objective-C\",\"PERIOD\":\"03\",\"PRODUCT\":\"大象科技致力於開發設計新時代的可攜式電子產品.\",\"PROFILE\":\"大象科技是一個年輕, 創新的公司. 大象科技致力於開發設計新時代的可攜式電子產品, 提供完整的解決方案, 以結合智慧型手機, Tablet, 及Notebook P\u001b[33m...\u001b[0m\n",
       "\u001b[32mimport \u001b[36mplay.api.libs.json._\u001b[0m\n",
       "\u001b[36mresultJson\u001b[0m: \u001b[32mplay\u001b[0m.\u001b[32mapi\u001b[0m.\u001b[32mlibs\u001b[0m.\u001b[32mjson\u001b[0m.\u001b[32mJsValue\u001b[0m = {\"RECORDCOUNT\":\"4774\",\"PAGECOUNT\":\"50\",\"PAGE\":\"1\",\"TOTALPAGE\":\"96\",\"data\":[{\"ADDRESS\":\"瑞光路408號10樓之1\",\"ADDR_INDZONE\":\"\",\"ADDR_NO_DESCRIPT\":\"台北市內湖區\",\"APPEAR_DATE\":\"20170813\",\"APPEAR_TIME\":\"20170813141524\",\"C\":\"423c446d3638406932343c653a40381b82b2b2b704238562664j50\",\"CERT_ALL_DESCRIPT\":\"\",\"DESCRIPTION\":\"Windows application and device driver development .\",\"DIS_LEVEL\":\"0\",\"DIS_LEVEL2\":\"0\",\"DIS_LEVEL3\":\"0\",\"DIS_ROLE\":\"0\",\"DIS_ROLE2\":\"0\",\"DIS_ROLE3\":\"0\",\"DRIVER\":\"0\",\"HANDICOMPENDIUM\":\"0\",\"INDCAT\":\"IC設計\",\"J\":\"47414b745d73502b5939416d3b353d6643f4149723b3d456e434941242424242204c77493816j55\",\"JOB\":\"軟體工程師\",\"JOBCAT_DESCRIPT\":\"韌體設計工程師@軟體設計工程師@類目\",\"JOBSKILL_ALL_DESC\":\"\",\"JOB_ADDRESS\":\"瑞光路408號10樓之1\",\"JOB_ADDR_NO_DESCRIPT\":\"台北市內湖區\",\"LANGUAGE1\":\"018488\",\"LANGUAGE2\":\"001111\",\"LANGUAGE3\":\"001111\",\"LAT\":\"25.0780877\",\"LINK\":\"\",\"LON\":\"121.5704929\",\"MAJOR_CAT_DESCRIPT\":\"工程學科類@類目@類目\",\"MINBINARY_EDU\":\"8\",\"NAME\":\"大象科技股份有限公司\",\"NEED_EMP\":\"1\",\"NEED_EMP1\":\"2\",\"OTHERS\":\"1. Familiar with Java, C/C++, or Objective-C.\\n2. Familiar with software test procedures\\n3. Good Debugging Skill\\n4. Familiar with version control tools\\n5. Experience in developing Windows 8 APP is a plus\\n6. Experience in developing Windows application and device driver is a plus\",\"PCSKILL_ALL_DESC\":\"C C++ Java Visual Studio Objective-C\",\"PERIOD\":\"03\",\"PRODUCT\":\"大象科技致力於開發設計新時代的可攜式電子產品.\",\"PROFILE\":\"大象科技是一個年輕, 創新的公司. 大象科技致力於開發設計新時代的可攜式電子產品, 提供完整的解決方案, 以結合智慧型手機, Tablet, 及Notebook PC, 使工作及生活更有效率, 輕鬆, 方便, 且愉快. \\n歡迎優秀的朋友及樂於挑戰, 創新的你, 一起加入我們的工作行列. 歡迎您的加入!!!!\",\"ROLE\":\"1\",\"ROLE_STATUS\":\"1\",\"S2\":\"0\",\"S3\":\"0\",\"SAL_MONTH_HIGH\":\"000000\",\"SAL_MONTH_L\u001b[33m...\u001b[0m\n",
       "\u001b[36mjobSize\u001b[0m: \u001b[32mInt\u001b[0m = \u001b[32m4774\u001b[0m\n",
       "\u001b[36mfreq\u001b[0m: \u001b[32mInt\u001b[0m = \u001b[32m48\u001b[0m"
      ]
     },
     "metadata": {},
     "output_type": "display_data"
    }
   ],
   "source": [
    "// 先發一個小request，得知java的工作資料總筆數，而後用迴圈爬完各個分頁\n",
    "import scalaj.http._\n",
    "val response: HttpResponse[String] = Http(\"http://www.104.com.tw/i/apis/jobsearch.cfm\")\n",
    "  .param(\"kws\",\"java\")\n",
    "  .param(\"kwop\",\"3\")\n",
    "  .param(\"role\",\"0\")\n",
    "  .param(\"fmt\",\"8\")\n",
    "  .param(\"page\",\"1\")\n",
    "  .param(\"pgsz\",\"50\")\n",
    "  .asString\n",
    "\n",
    "// 轉換成Json作處理\n",
    "import play.api.libs.json._\n",
    "val resultJson = Json.parse(response.body)\n",
    " \n",
    "// 找出總筆數\n",
    "val jobSize = resultJson.\\(\"RECORDCOUNT\").as[String].toInt\n",
    "\n",
    "// 以一頁兩千筆的方式計算總共要訪問幾次\n",
    "val freq = (jobSize / 100) +1\n"
   ]
  },
  {
   "cell_type": "code",
   "execution_count": 3,
   "metadata": {
    "collapsed": false
   },
   "outputs": [
    {
     "data": {
      "text/plain": [
       "\u001b[32mimport \u001b[36mscala.collection.mutable.ArrayBuffer\u001b[0m\n",
       "\u001b[36mtraditionArray\u001b[0m: \u001b[32mcollection\u001b[0m.\u001b[32mmutable\u001b[0m.\u001b[32mArrayBuffer\u001b[0m[\u001b[32mString\u001b[0m] = \u001b[33mArrayBuffer\u001b[0m(\n",
       "  \u001b[32m\"\"\"\n",
       "{\"RECORDCOUNT\":\"4774\",\"PAGECOUNT\":\"50\",\"PAGE\":\"1\",\"TOTALPAGE\":\"96\",\"data\":[{\"ADDRESS\":\"瑞光路408號10樓之1\",\"ADDR_INDZONE\":\"\",\"ADDR_NO_DESCRIPT\":\"台北市內湖區\",\"APPEAR_DATE\":\"20170813\",\"APPEAR_TIME\":\"20170813141524\",\"C\":\"423c446d3638406932343c653a40381b82b2b2b704238562664j50\",\"CERT_ALL_DESCRIPT\":\"\",\"DESCRIPTION\":\"Windows application and device driver development .\",\"DIS_LEVEL\":\"0\",\"DIS_LEVEL2\":\"0\",\"DIS_LEVEL3\":\"0\",\"DIS_ROLE\":\"0\",\"DIS_ROLE2\":\"0\",\"DIS_ROLE3\":\"0\",\"DRIVER\":\"0\",\"HANDICOMPENDIUM\":\"0\",\"INDCAT\":\"IC設計\",\"J\":\"47414b745d73502b5939416d3b353d6643f4149723b3d456e434941242424242204c77493816j55\",\"JOB\":\"軟體工程師\",\"JOBCAT_DESCRIPT\":\"韌體設計工程師@軟體設計工程師@類目\",\"JOBSKILL_ALL_DESC\":\"\",\"JOB_ADDRESS\":\"瑞光路408號10樓之1\",\"JOB_ADDR_NO_DESCRIPT\":\"台北市內湖區\",\"LANGUAGE1\":\"018488\",\"LANGUAGE2\":\"001111\",\"LANGUAGE3\":\"001111\",\"LAT\":\"25.0780877\",\"LINK\":\"\",\"LON\":\"121.5704929\",\"MAJOR_CAT_DESCRIPT\":\"工程學科類@類目@類目\",\"MINBINARY_EDU\":\"8\",\"NAME\":\"大象科技股份有限公司\",\"NEED_EMP\":\"1\",\"NEED_EMP1\":\"2\",\"OTHERS\":\"1. Familiar with Java, C/C++, or Objective-C.\\n2. Familiar with software test procedures\\n3. Good Debugging Skill\\n4. Familiar with version control tools\\n5. Experience in developing Windows 8 APP is a plus\\n6. Experience in developing Windows application and device driver is a plus\",\"PCSKILL_ALL_DESC\":\"C C++ Java Visual Studio Objective-C\",\"PERIOD\":\"03\",\"PRODUCT\":\"大象科技致力於開發設計新時代的可攜式電子產品.\",\"PROFILE\":\"大象科技是一個年輕, 創新的公司. 大象科技致力於開發設計新時代的可攜式電子產品, 提供完整的解決方案, 以結合智慧型手機, Tablet, 及Notebook P\u001b[33m...\u001b[0m"
      ]
     },
     "metadata": {},
     "output_type": "display_data"
    }
   ],
   "source": [
    "// 將所爬下來的資料，放入Array中\n",
    "// 傳統迴圈的方式\n",
    "import scala.collection.mutable.ArrayBuffer\n",
    "\n",
    "var traditionArray = ArrayBuffer[String]()\n",
    "\n",
    "for (i <- 1 to freq){\n",
    "  val t = Http(\"http://www.104.com.tw/i/apis/jobsearch.cfm\")\n",
    "  .param(\"kws\",\"java\")\n",
    "  .param(\"kwop\",\"3\")\n",
    "  .param(\"role\",\"0\")\n",
    "  .param(\"fmt\",\"8\")\n",
    "  .param(\"page\",s\"$i\")\n",
    "  .param(\"pgsz\",\"50\")\n",
    "  .asString\n",
    "  traditionArray += t.body\n",
    "}"
   ]
  },
  {
   "cell_type": "code",
   "execution_count": 4,
   "metadata": {
    "collapsed": false
   },
   "outputs": [
    {
     "name": "stdout",
     "output_type": "stream",
     "text": [
      "Map(\"新北市泰山區\" -> 5, \"基隆市七堵區\" -> 1, \"新北市三重區\" -> 18, \"台中市梧棲區\" -> 2, \"高雄市岡山區\" -> 1, \"桃園市平鎮區\" -> 6, \"高雄市鹽埕區\" -> 5, \"江蘇省蘇州市\" -> 1, \"高雄市大寮區\" -> 3, \"台北市內湖區\" -> 331, \"菲律賓\" -> 19, \"彰化縣伸港鄉\" -> 2, \"高雄市三民區\" -> 2, \"彰化縣線西鄉\" -> 1, \"新竹縣寶山鄉\" -> 14, \"新北市鶯歌區\" -> 3, \"彰化縣鹿港鎮\" -> 1, \"新北市新莊區\" -> 9, \"基隆市安樂區\" -> 1, \"台中市太平區\" -> 6, \"台中市中區\" -> 7, \"新北市樹林區\" -> 2, \"高雄市左營區\" -> 3, \"新北市深坑區\" -> 37, \"高雄市前金區\" -> 1, \"台中市大里區\" -> 1, \"桃園市大園區\" -> 5, \"苗栗縣三義鄉\" -> 3, \"台北市萬華區\" -> 20, \"新北市汐止區\" -> 49, \"台北市信義區\" -> 188, \"台中市潭子區\" -> 5, \"新北市淡水區\" -> 3, \"台南市安定區\" -> 1, \"雲林縣虎尾鎮\" -> 1, \"新北市中和區\" -> 87, \"台中市東區\" -> 1, \"彰化縣大村鄉\" -> 1, \"台南市仁德區\" -> 1, \"新北市板橋區\" -> 53, \"新北市金山區\" -> 1, \"高雄市大樹區\" -> 1, \"台南市新市區\" -> 3, \"桃園市觀音區\" -> 7, \"新北市土城區\" -> 33, \"台中市大甲區\" -> 1, \"桃園市龜山區\" -> 46, \"高雄市前鎮區\" -> 38, \"嘉義市\" -> 1, \"高雄市路竹區\" -> 1, \"台北市中正區\" -> 138, \"新竹縣湖口鄉\" -> 7, \"台中市霧峰區\" -> 1, \"桃園市桃園區\" -> 14, \"台中市西區\" -> 16, \"台中市南區\" -> 3, \"台中市大雅區\" -> 11, \"高雄市鳥松區\" -> 4, \"台南市南區\" -> 1, \"桃園市龍潭區\" -> 3, \"高雄市新興區\" -> 3, \"新北市五股區\" -> 10, \"桃園市大溪區\" -> 2, \"台北市士林區\" -> 14, \"彰化縣福興鄉\" -> 1, \"台北市大安區\" -> 253, \"高雄市苓雅區\" -> 17, \"台中市西屯區\" -> 59, \"安徽省合肥市\" -> 1, \"彰化縣彰化市\" -> 1, \"台北市松山區\" -> 168, \"苗栗縣頭份市\" -> 3, \"高雄市楠梓區\" -> 1, \"薩摩亞\" -> 1, \"台北市文山區\" -> 2, \"台中市南屯區\" -> 23, \"新���市新店區\" -> 51, \"新竹縣竹東鎮\" -> 4, \"彰化縣員林市\" -> 1, \"高雄市小港區\" -> 1, \"台中市神岡區\" -> 1, \"高雄市鼓山區\" -> 1, \"台南市東區\" -> 3, \"彰化縣花壇鄉\" -> 1, \"新竹市\" -> 144, \"新北市永和區\" -> 2, \"台中市烏日區\" -> 1, \"上海市\" -> 5, \"新竹縣新埔鎮\" -> 1, \"台北市大同區\" -> 19, \"苗栗縣竹南鎮\" -> 15, \"台中市北區\" -> 25, \"台中市北屯區\" -> 5, \"新北市林口區\" -> 4, \"台中市后里區\" -> 14, \"桃園市中壢區\" -> 11, \"台北市北投區\" -> 32, \"台南市永康區\" -> 2, \"台南市安南區\" -> 1, \"台北市中山區\" -> 131, \"南投縣南投市\" -> 5, \"新竹縣竹北市\" -> 28, \"高雄市仁武區\" -> 1, \"台南市中西區\" -> 3, \"台南市北區\" -> 1, \"台北市南港區\" -> 95)\n"
     ]
    },
    {
     "data": {
      "text/plain": [
       "\u001b[36mforCalculate\u001b[0m: \u001b[32mArrayBuffer\u001b[0m[\u001b[32mString\u001b[0m] = \u001b[33mArrayBuffer\u001b[0m(\n",
       "  \u001b[32m\"\"\"\n",
       "{\"RECORDCOUNT\":\"4774\",\"PAGECOUNT\":\"50\",\"PAGE\":\"1\",\"TOTALPAGE\":\"96\",\"data\":[{\"ADDRESS\":\"瑞光路408號10樓之1\",\"ADDR_INDZONE\":\"\",\"ADDR_NO_DESCRIPT\":\"台北市內湖區\",\"APPEAR_DATE\":\"20170813\",\"APPEAR_TIME\":\"20170813141524\",\"C\":\"423c446d3638406932343c653a40381b82b2b2b704238562664j50\",\"CERT_ALL_DESCRIPT\":\"\",\"DESCRIPTION\":\"Windows application and device driver development .\",\"DIS_LEVEL\":\"0\",\"DIS_LEVEL2\":\"0\",\"DIS_LEVEL3\":\"0\",\"DIS_ROLE\":\"0\",\"DIS_ROLE2\":\"0\",\"DIS_ROLE3\":\"0\",\"DRIVER\":\"0\",\"HANDICOMPENDIUM\":\"0\",\"INDCAT\":\"IC設計\",\"J\":\"47414b745d73502b5939416d3b353d6643f4149723b3d456e434941242424242204c77493816j55\",\"JOB\":\"軟體工程師\",\"JOBCAT_DESCRIPT\":\"韌體設計工程師@軟體設計工程師@類目\",\"JOBSKILL_ALL_DESC\":\"\",\"JOB_ADDRESS\":\"瑞光路408號10樓之1\",\"JOB_ADDR_NO_DESCRIPT\":\"台北市內湖區\",\"LANGUAGE1\":\"018488\",\"LANGUAGE2\":\"001111\",\"LANGUAGE3\":\"001111\",\"LAT\":\"25.0780877\",\"LINK\":\"\",\"LON\":\"121.5704929\",\"MAJOR_CAT_DESCRIPT\":\"工程學科類@類目@類目\",\"MINBINARY_EDU\":\"8\",\"NAME\":\"大象科技股份有限公司\",\"NEED_EMP\":\"1\",\"NEED_EMP1\":\"2\",\"OTHERS\":\"1. Familiar with Java, C/C++, or Objective-C.\\n2. Familiar with software test procedures\\n3. Good Debugging Skill\\n4. Familiar with version control tools\\n5. Experience in developing Windows 8 APP is a plus\\n6. Experience in developing Windows application and device driver is a plus\",\"PCSKILL_ALL_DESC\":\"C C++ Java Visual Studio Objective-C\",\"PERIOD\":\"03\",\"PRODUCT\":\"大象科技致力於開發設計新時代的可攜式電子產品.\",\"PROFILE\":\"大象科技是一個年輕, 創新的公司. 大象科技致力於開發設計新時代的可攜式電子產品, 提供完整的解決方案, 以結合智慧型手機, Tablet, 及Notebook P\u001b[33m...\u001b[0m\n",
       "\u001b[36mjobCountMap\u001b[0m: \u001b[32mcollection\u001b[0m.\u001b[32mmutable\u001b[0m.\u001b[32mMap\u001b[0m[\u001b[32mJsValue\u001b[0m, \u001b[32mInt\u001b[0m] = \u001b[33mMap\u001b[0m(\n",
       "  \"新北市泰山區\" -> \u001b[32m5\u001b[0m,\n",
       "  \"基隆市七堵區\" -> \u001b[32m1\u001b[0m,\n",
       "  \"新北市三重區\" -> \u001b[32m18\u001b[0m,\n",
       "  \"台中市梧棲區\" -> \u001b[32m2\u001b[0m,\n",
       "  \"高雄市岡山區\" -> \u001b[32m1\u001b[0m,\n",
       "  \"桃園市平鎮區\" -> \u001b[32m6\u001b[0m,\n",
       "  \"高雄市鹽埕區\" -> \u001b[32m5\u001b[0m,\n",
       "  \"江蘇省蘇州市\" -> \u001b[32m1\u001b[0m,\n",
       "  \"高雄市大寮區\" -> \u001b[32m3\u001b[0m,\n",
       "  \"台北市內湖區\" -> \u001b[32m331\u001b[0m,\n",
       "  \"菲律賓\" -> \u001b[32m19\u001b[0m,\n",
       "  \"彰化縣伸港鄉\" -> \u001b[32m2\u001b[0m,\n",
       "  \"高雄市三民區\" -> \u001b[32m2\u001b[0m,\n",
       "  \"彰化縣線西鄉\" -> \u001b[32m1\u001b[0m,\n",
       "  \"新竹縣寶山鄉\" -> \u001b[32m14\u001b[0m,\n",
       "  \"新北市鶯歌區\" -> \u001b[32m3\u001b[0m,\n",
       "  \"彰化縣鹿港鎮\" -> \u001b[32m1\u001b[0m,\n",
       "  \"新北市新莊區\" -> \u001b[32m9\u001b[0m,\n",
       "  \"基隆市安樂區\" -> \u001b[32m1\u001b[0m,\n",
       "\u001b[33m...\u001b[0m"
      ]
     },
     "metadata": {},
     "output_type": "display_data"
    }
   ],
   "source": [
    "// 對Array裡的每個Response做統計處理\n",
    "// 找出各地區工作的總量\n",
    "\n",
    "// 準備好一個空的Map資料結構\n",
    "var forCalculate = traditionArray.clone\n",
    "var jobCountMap= scala.collection.mutable.Map.empty[JsValue,Int]\n",
    "\n",
    "// 透過迴圈的方式，逐筆把數據內的地區位置做統計\n",
    "for (i <- 0 until forCalculate.length){\n",
    "  for ( locate <- Json.parse(forCalculate(i)).\\(\"data\").\\\\(\"ADDR_NO_DESCRIPT\")){\n",
    "    jobCountMap.update(locate,jobCountMap.getOrElse(locate,0)+1)\n",
    "  }\n",
    "}\n",
    "\n",
    "// println(jobCountMap)"
   ]
  },
  {
   "cell_type": "code",
   "execution_count": 5,
   "metadata": {
    "collapsed": false
   },
   "outputs": [
    {
     "data": {
      "text/plain": [
       "\u001b[36msortJobCountMap\u001b[0m: \u001b[32mSeq\u001b[0m[(\u001b[32mJsValue\u001b[0m, \u001b[32mInt\u001b[0m)] = \u001b[33mArrayBuffer\u001b[0m(\n",
       "  \u001b[33m\u001b[0m(\"基隆市七堵區\", \u001b[32m1\u001b[0m),\n",
       "  \u001b[33m\u001b[0m(\"高雄市岡山區\", \u001b[32m1\u001b[0m),\n",
       "  \u001b[33m\u001b[0m(\"江蘇省蘇州市\", \u001b[32m1\u001b[0m),\n",
       "  \u001b[33m\u001b[0m(\"彰化縣線西鄉\", \u001b[32m1\u001b[0m),\n",
       "  \u001b[33m\u001b[0m(\"彰化縣鹿港鎮\", \u001b[32m1\u001b[0m),\n",
       "  \u001b[33m\u001b[0m(\"基隆市安樂區\", \u001b[32m1\u001b[0m),\n",
       "  \u001b[33m\u001b[0m(\"高雄市前金區\", \u001b[32m1\u001b[0m),\n",
       "  \u001b[33m\u001b[0m(\"台中市大里區\", \u001b[32m1\u001b[0m),\n",
       "  \u001b[33m\u001b[0m(\"台南市安定區\", \u001b[32m1\u001b[0m),\n",
       "  \u001b[33m\u001b[0m(\"雲林縣虎尾鎮\", \u001b[32m1\u001b[0m),\n",
       "  \u001b[33m\u001b[0m(\"台中市東區\", \u001b[32m1\u001b[0m),\n",
       "  \u001b[33m\u001b[0m(\"彰化縣大村鄉\", \u001b[32m1\u001b[0m),\n",
       "  \u001b[33m\u001b[0m(\"台南市仁德區\", \u001b[32m1\u001b[0m),\n",
       "  \u001b[33m\u001b[0m(\"新北市金山區\", \u001b[32m1\u001b[0m),\n",
       "  \u001b[33m\u001b[0m(\"高雄市大樹區\", \u001b[32m1\u001b[0m),\n",
       "  \u001b[33m\u001b[0m(\"台中市大甲區\", \u001b[32m1\u001b[0m),\n",
       "  \u001b[33m\u001b[0m(\"嘉義市\", \u001b[32m1\u001b[0m),\n",
       "  \u001b[33m\u001b[0m(\"高雄市路竹區\", \u001b[32m1\u001b[0m),\n",
       "  \u001b[33m\u001b[0m(\"台中市霧峰區\", \u001b[32m1\u001b[0m),\n",
       "\u001b[33m...\u001b[0m\n",
       "\u001b[36mtopTen\u001b[0m: \u001b[32mSeq\u001b[0m[(\u001b[32mJsValue\u001b[0m, \u001b[32mInt\u001b[0m)] = \u001b[33mArrayBuffer\u001b[0m(\n",
       "  \u001b[33m\u001b[0m(\"新北市中和區\", \u001b[32m87\u001b[0m),\n",
       "  \u001b[33m\u001b[0m(\"台北市南港區\", \u001b[32m95\u001b[0m),\n",
       "  \u001b[33m\u001b[0m(\"台北市中山區\", \u001b[32m131\u001b[0m),\n",
       "  \u001b[33m\u001b[0m(\"台北市中正區\", \u001b[32m138\u001b[0m),\n",
       "  \u001b[33m\u001b[0m(\"新竹市\", \u001b[32m144\u001b[0m),\n",
       "  \u001b[33m\u001b[0m(\"台北市松山區\", \u001b[32m168\u001b[0m),\n",
       "  \u001b[33m\u001b[0m(\"台北市信義區\", \u001b[32m188\u001b[0m),\n",
       "  \u001b[33m\u001b[0m(\"台北市大安區\", \u001b[32m253\u001b[0m),\n",
       "  \u001b[33m\u001b[0m(\"台北市內湖區\", \u001b[32m331\u001b[0m)\n",
       ")"
      ]
     },
     "metadata": {},
     "output_type": "display_data"
    }
   ],
   "source": [
    "// 挑出前十個工作機會多的地區\n",
    "\n",
    "// 此二句具備declarative style\n",
    "val sortJobCountMap = jobCountMap.toSeq.sortBy( record => record._2 ) \n",
    "val topTen = sortJobCountMap.takeRight(10)\n",
    "\n"
   ]
  },
  {
   "cell_type": "code",
   "execution_count": 6,
   "metadata": {
    "collapsed": false
   },
   "outputs": [
    {
     "name": "stdout",
     "output_type": "stream",
     "text": [
      "<html>\n",
      "  <head>\n",
      "    <script src=\"https://cdn.jsdelivr.net/webjars/org.webjars.bower/d3/3.5.17/d3.min.js\" charset=\"utf-8\"></script>\n",
      "<script src=\"https://cdn.jsdelivr.net/webjars/org.webjars.bower/vega/2.6.3/vega.min.js\" charset=\"utf-8\"></script>\n",
      "<script src=\"https://cdn.jsdelivr.net/webjars/org.webjars.bower/vega-lite/1.2.0/vega-lite.min.js\" charset=\"utf-8\"></script>\n",
      "<script src=\"https://vega.github.io/vega-editor/vendor/vega-embed.js\" charset=\"utf-8\"></script>\n",
      "  </head>\n",
      "  <body>\n",
      " <script>\n",
      "   var embedSpec = {\n",
      "     mode: \"vega-lite\",\n",
      "     spec: {\n",
      "  \"mark\" : \"bar\",\n",
      "  \"encoding\" : {\n",
      "    \"x\" : {\n",
      "      \"field\" : \"Country\",\n",
      "      \"type\" : \"ordinal\"\n",
      "    },\n",
      "    \"y\" : {\n",
      "      \"field\" : \"jobCount\",\n",
      "      \"type\" : \"quantitative\"\n",
      "    }\n",
      "  },\n",
      "  \"description\" : \"A simple bar chart with embedded data.\",\n",
      "  \"data\" : {\n",
      "    \"values\" : [\n",
      "      {\n",
      "        \"Country\" : \"\\\"新北市中和區\\\"\",\n",
      "        \"jobCount\" : 87\n",
      "      },\n",
      "      {\n",
      "        \"Country\" : \"\\\"台北市南港區\\\"\",\n",
      "        \"jobCount\" : 95\n",
      "      },\n",
      "      {\n",
      "        \"Country\" : \"\\\"台北市中山區\\\"\",\n",
      "        \"jobCount\" : 131\n",
      "      },\n",
      "      {\n",
      "        \"Country\" : \"\\\"台北市中正區\\\"\",\n",
      "        \"jobCount\" : 138\n",
      "      },\n",
      "      {\n",
      "        \"Country\" : \"\\\"新竹市\\\"\",\n",
      "        \"jobCount\" : 144\n",
      "      },\n",
      "      {\n",
      "        \"Country\" : \"\\\"台北市松山區\\\"\",\n",
      "        \"jobCount\" : 168\n",
      "      },\n",
      "      {\n",
      "        \"Country\" : \"\\\"台北市信義區\\\"\",\n",
      "        \"jobCount\" : 188\n",
      "      },\n",
      "      {\n",
      "        \"Country\" : \"\\\"台北市大安區\\\"\",\n",
      "        \"jobCount\" : 253\n",
      "      },\n",
      "      {\n",
      "        \"Country\" : \"\\\"台北市內湖區\\\"\",\n",
      "        \"jobCount\" : 331\n",
      "      }\n",
      "    ]\n",
      "  }\n",
      "}\n",
      "   }\n",
      "   vg.embed(\"#vegas-39a13b4f-77e9-41f5-aa16-ef7d87ff00e6\", embedSpec, function(error, result) {});\n",
      " </script>\n",
      " <div id='vegas-39a13b4f-77e9-41f5-aa16-ef7d87ff00e6'></div>\n",
      "    </body>\n",
      "</html>\n"
     ]
    },
    {
     "data": {
      "text/plain": [
       "\u001b[36mvisualTopTen\u001b[0m: \u001b[32mArrayBuffer\u001b[0m[\u001b[32mMap\u001b[0m[\u001b[32mString\u001b[0m, \u001b[32mAny\u001b[0m]] = \u001b[33mArrayBuffer\u001b[0m(\n",
       "  \u001b[33mMap\u001b[0m(\u001b[32m\"Country\"\u001b[0m -> \"新北市中和區\", \u001b[32m\"jobCount\"\u001b[0m -> 87),\n",
       "  \u001b[33mMap\u001b[0m(\u001b[32m\"Country\"\u001b[0m -> \"台北市南港區\", \u001b[32m\"jobCount\"\u001b[0m -> 95),\n",
       "  \u001b[33mMap\u001b[0m(\u001b[32m\"Country\"\u001b[0m -> \"台北市中山區\", \u001b[32m\"jobCount\"\u001b[0m -> 131),\n",
       "  \u001b[33mMap\u001b[0m(\u001b[32m\"Country\"\u001b[0m -> \"台北市中正區\", \u001b[32m\"jobCount\"\u001b[0m -> 138),\n",
       "  \u001b[33mMap\u001b[0m(\u001b[32m\"Country\"\u001b[0m -> \"新竹市\", \u001b[32m\"jobCount\"\u001b[0m -> 144),\n",
       "  \u001b[33mMap\u001b[0m(\u001b[32m\"Country\"\u001b[0m -> \"台北市松山區\", \u001b[32m\"jobCount\"\u001b[0m -> 168),\n",
       "  \u001b[33mMap\u001b[0m(\u001b[32m\"Country\"\u001b[0m -> \"台北市信義區\", \u001b[32m\"jobCount\"\u001b[0m -> 188),\n",
       "  \u001b[33mMap\u001b[0m(\u001b[32m\"Country\"\u001b[0m -> \"台北市大安區\", \u001b[32m\"jobCount\"\u001b[0m -> 253),\n",
       "  \u001b[33mMap\u001b[0m(\u001b[32m\"Country\"\u001b[0m -> \"台北市內湖區\", \u001b[32m\"jobCount\"\u001b[0m -> 331)\n",
       ")\n",
       "\u001b[32mimport \u001b[36mvegas._\u001b[0m\n",
       "\u001b[32mimport \u001b[36mvegas.data.External._\u001b[0m\n",
       "\u001b[36mshowHtml\u001b[0m: \u001b[32mString\u001b[0m = \u001b[32m\"\"\"\n",
       "<html>\n",
       "  <head>\n",
       "    <script src=\"https://cdn.jsdelivr.net/webjars/org.webjars.bower/d3/3.5.17/d3.min.js\" charset=\"utf-8\"></script>\n",
       "<script src=\"https://cdn.jsdelivr.net/webjars/org.webjars.bower/vega/2.6.3/vega.min.js\" charset=\"utf-8\"></script>\n",
       "<script src=\"https://cdn.jsdelivr.net/webjars/org.webjars.bower/vega-lite/1.2.0/vega-lite.min.js\" charset=\"utf-8\"></script>\n",
       "<script src=\"https://vega.github.io/vega-editor/vendor/vega-embed.js\" charset=\"utf-8\"></script>\n",
       "  </head>\n",
       "  <body>\n",
       " <script>\n",
       "   var embedSpec = {\n",
       "     mode: \"vega-lite\",\n",
       "     spec: {\n",
       "  \"mark\" : \"bar\",\n",
       "  \"encoding\" : {\n",
       "    \"x\" : {\n",
       "\u001b[33m...\u001b[0m"
      ]
     },
     "metadata": {},
     "output_type": "display_data"
    }
   ],
   "source": [
    "var visualTopTen = ArrayBuffer.empty[Map[String,Any]];\n",
    "for(i <- 0 until topTen.length ){\n",
    "  visualTopTen.+=(\n",
    "    Map(\"Country\"->topTen(i)._1,\"jobCount\"-> topTen(i)._2)\n",
    "  )\n",
    "}\n",
    "import vegas._\n",
    "import vegas.data.External._\n",
    "\n",
    "// 轉成可視化的網頁\n",
    "val showHtml = Vegas(\"A simple bar chart with embedded data.\")\n",
    "  .withData( visualTopTen )\n",
    "  .encodeX(\"Country\", Ordinal)\n",
    "  .encodeY(\"jobCount\", Quantitative)\n",
    "  .mark(Bar).html.pageHTML()\n",
    "\n",
    "println(showHtml)"
   ]
  },
  {
   "cell_type": "code",
   "execution_count": null,
   "metadata": {
    "collapsed": true
   },
   "outputs": [],
   "source": [
    "// 函數類型的編程方法\n",
    "// 先發一個小型request，得知總筆數，而後用迴圈爬完\n",
    "\n",
    "import scalaj.http._\n",
    "val response: HttpResponse[String] = Http(\"http://www.104.com.tw/i/apis/jobsearch.cfm\")\n",
    "  .param(\"kws\",\"java\")\n",
    "  .param(\"kwop\",\"3\")\n",
    "  .param(\"role\",\"0\")\n",
    "  .param(\"fmt\",\"8\")\n",
    "  .param(\"page\",\"1\")\n",
    "  .param(\"pgsz\",\"50\")\n",
    "  .asString\n",
    "  \n",
    "\n",
    "// 轉換成Json作處理\n",
    "import play.api.libs.json._\n",
    "val resultJson = Json.parse(response.body)\n",
    " \n",
    "// 找出總筆數\n",
    "val jobSize = resultJson.\\(\"RECORDCOUNT\").as[String].toInt\n",
    "\n",
    "// 以一頁兩千筆的方式計算總共要訪問幾次\n",
    "val freq = 1 to ((jobSize / 100) +1)\n",
    "\n",
    "// 傳統迴圈的方式\n",
    "// import scala.collection.mutable.ArrayBuffer\n",
    "// var traditionArray = ArrayBuffer[String]()\n",
    "// for (i <- 1 to freq){\n",
    "//   val t = Http(\"http://www.104.com.tw/i/apis/jobsearch.cfm\")\n",
    "//   .param(\"kws\",\"java\")\n",
    "//   .param(\"kwop\",\"3\")\n",
    "//   .param(\"role\",\"0\")\n",
    "//   .param(\"fmt\",\"8\")\n",
    "//   .param(\"page\",s\"$i\")\n",
    "//   .param(\"pgsz\",\"50\")\n",
    "//   .asString\n",
    "//   traditionArray += t.body\n",
    "// }\n",
    "\n"
   ]
  }
 ],
 "metadata": {
  "kernelspec": {
   "display_name": "Scala 2.11",
   "language": "scala211",
   "name": "scala211"
  },
  "language_info": {
   "codemirror_mode": "text/x-scala",
   "file_extension": ".scala",
   "mimetype": "text/x-scala",
   "name": "scala211",
   "pygments_lexer": "scala",
   "version": "2.11.7"
  }
 },
 "nbformat": 4,
 "nbformat_minor": 1
}

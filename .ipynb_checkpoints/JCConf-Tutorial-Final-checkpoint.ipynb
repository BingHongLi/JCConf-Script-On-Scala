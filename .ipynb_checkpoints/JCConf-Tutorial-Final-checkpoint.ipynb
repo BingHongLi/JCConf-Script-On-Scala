{
 "cells": [
  {
   "cell_type": "code",
   "execution_count": null,
   "metadata": {
    "collapsed": true
   },
   "outputs": [],
   "source": [
    "/*\n",
    "\n",
    "Scala特性豐富，包容性強；可以簡單，可以困難。\n",
    "\n",
    "能以靜態語言的方式編寫，\n",
    "透過直譯器與型別推論，也能夠以類動態語言的方式進行開發。\n",
    "\n",
    "能以imperative的風格撰寫程式，也能透過declarative的風格開發應用。\n",
    "\n",
    "面臨大型系統開發時，能用物件導向的方式面對；進行資料流處理的應用時，也能使用函數導向的方式完成。\n",
    "面臨開發大型資料處理系統時，更可結合物件導向與函數導向的方式來完成應用。\n",
    "\n",
    "有很多特色支撐Scala作為FP導向的語言，其中容器扮演了很大的一個角色。\n",
    "\n",
    "現在就讓我們來簡單地嘗試看看，這些容器。\n",
    "\n",
    "*/"
   ]
  },
  {
   "cell_type": "code",
   "execution_count": null,
   "metadata": {
    "collapsed": false
   },
   "outputs": [],
   "source": [
    "/*\n",
    "Option\n",
    "  應用場景\n",
    "    在資料處理時，有些資料品質相對不好，比如欄位不齊或是值域不在合理範圍內時，我們需要捨棄該些資料，\n",
    "    對其他資料進行保留做後續處理時。\n",
    "    \n",
    "  子類別\n",
    "    Some[T]  // 有數值\n",
    "    None  // 無數值\n",
    "\n",
    "*/\n",
    "val rawDataArray = Array(1,2,3,4,5,6)\n",
    "val moreThanThreeData = rawDataArray.map{ element =>  \n",
    "  if(element > 3) Some(element) else None \n",
    "}"
   ]
  },
  {
   "cell_type": "code",
   "execution_count": null,
   "metadata": {
    "collapsed": false
   },
   "outputs": [],
   "source": [
    "/*\n",
    "Try\n",
    "  應用場景\n",
    "    當在處理資料時，面對處理流程上可能會有例外時，可用Try包覆，\n",
    "    Scala會將資料分成兩類，處理成功或失敗的數據。\n",
    "\n",
    "  \n",
    "  子類別\n",
    "    Success[T]\n",
    "    Failure(exception: Throwable)  \n",
    "*/\n",
    "\n",
    "import scala.util.Try\n",
    "\n",
    "// 一個字串，嘗試轉為Int\n",
    "val stringEle = \"ee\"\n",
    "val tranInt = Try{stringEle.toInt}\n",
    "// 我們不知道其是否會被成功操作，可使用flatMap，flatMap會抓出Success的元素進行下一步操作\n",
    "val resultEle = tranInt.flatMap( e => Try{e+1} )\n",
    "println(resultEle) // Failure(java.lang.NumberFormatException: For input string: \"ee\")\n",
    "\n",
    "// 範例2\n",
    "val stringEle2 = \"2\"\n",
    "val tranInt2 = Try{stringEle2.toInt}\n",
    "val resultEle2 = tranInt2.flatMap{e=> Try{e+1}}\n",
    "println(resultEle2)  // Success(3)\n",
    "\n"
   ]
  },
  {
   "cell_type": "code",
   "execution_count": null,
   "metadata": {
    "collapsed": false
   },
   "outputs": [],
   "source": [
    "// 範例3\n",
    "import scala.util.Try\n",
    "\n",
    "val stringArray:Array[String] = Array(\"1\",\"ee\",\"2\")\n",
    "\n",
    "val transferToInt =  stringArray.map{ stringElement =>\n",
    "  Try{stringElement.toInt}\n",
    "}\n",
    "\n",
    "/*\n",
    "  將array中的元素取出，取出的元素為 Try[A] ， 可能為Success[Int] 或 Failure[Throwable]\n",
    "  而後針對 Success的元素作操作，取出其元素，並再放入下一個Try\n",
    "*/\n",
    "val secondOperate = transferToInt.map{ tryElement =>\n",
    "  tryElement.flatMap{ element =>\n",
    "    Try{element+1}\n",
    "  }\n",
    "}\n"
   ]
  },
  {
   "cell_type": "code",
   "execution_count": null,
   "metadata": {
    "collapsed": false
   },
   "outputs": [],
   "source": [
    "/*\n",
    "Either\n",
    "  應用場景\n",
    "  \n",
    "  處理資料時，我們預期可能出現兩種結果，這兩種資料分別為Left[T] and Right[U]\n",
    "  以2017年年初為界， \n",
    "  \n",
    "  過去開發人員會假設 Left為不期望出現的資料，而Right為希望出現的資料\n",
    "  \n",
    "  現在官方建議了一個標準用法，Either應為不偏性，，Left與Right間均可是希望出現的資料，開發人員\n",
    "  \n",
    "*/\n",
    "\n",
    "val rawArray = Array(1,2,3,4)\n",
    "\n",
    "// 將資料分成兩類\n",
    "val eitherArray = rawArray.map{ element =>\n",
    "  if(element % 2 == 0){\n",
    "    Left(element)\n",
    "  }else{\n",
    "    Right(element)\n",
    "  }\n",
    "}\n",
    "\n",
    "// 針對右資料做處理\n",
    "val getRightArray = eitherArray.map{ element=>\n",
    "  element.right.map( e => 99)\n",
    "}\n",
    "// Array(Right(99), Left(2), Right(99), Left(4))\n",
    "\n",
    "// 針對左資料做處理\n",
    "val getLeftArray = eitherArray.map{ element=>\n",
    "  element.left.map( e => 88)\n",
    "}\n",
    "// Array(Right(1), Left(88), Right(3), Left(88))"
   ]
  },
  {
   "cell_type": "code",
   "execution_count": null,
   "metadata": {
    "collapsed": false
   },
   "outputs": [],
   "source": [
    "/*\n",
    "Future\n",
    "  應用場景\n",
    "  服務器可以用來處理和響應請求的線程只有那麼多， \n",
    "  不能因為要等待數據庫查詢或其他 HTTP 服務調用的結果而阻塞了這些可貴的線程。\n",
    "  相反，一個異步編程模型和非阻塞 IO 會更合適， \n",
    "  這樣的話，當一個請求處理在等待數據庫查詢結果時，處理這個請求的線程也能夠為其他請求服務。\n",
    "  \n",
    "*/\n",
    "\n",
    "import scala.concurrent.Future\n",
    "import scala.concurrent.ExecutionContext.Implicits._\n",
    "\n",
    "//  撰寫一個帶副作用的新任務， \n",
    "val task1 =Future{\n",
    "  println(\"I'm task1\")\n",
    "}\n",
    "\n",
    "// 回傳一個Int\n",
    "val task2 = Future{\n",
    "  1+1\n",
    "}\n",
    "\n",
    "// 利用task2的結果繼續往下做\n",
    "val task3 = task2.map{ element =>\n",
    "  element+1\n",
    "}\n",
    "\n",
    "import scala.concurrent.Await\n",
    "import scala.concurrent.duration._\n",
    "\n",
    "// 主程序會花三秒鐘來等task3執行完畢\n",
    "println(Await.result(task3, 3 seconds ))"
   ]
  },
  {
   "cell_type": "code",
   "execution_count": null,
   "metadata": {
    "collapsed": true
   },
   "outputs": [],
   "source": []
  }
 ],
 "metadata": {
  "kernelspec": {
   "display_name": "Scala 2.11",
   "language": "scala211",
   "name": "scala211"
  },
  "language_info": {
   "codemirror_mode": "text/x-scala",
   "file_extension": ".scala",
   "mimetype": "text/x-scala",
   "name": "scala211",
   "pygments_lexer": "scala",
   "version": "2.11.7"
  }
 },
 "nbformat": 4,
 "nbformat_minor": 1
}

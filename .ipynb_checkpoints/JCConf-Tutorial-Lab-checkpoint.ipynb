{
 "cells": [
  {
   "cell_type": "code",
   "execution_count": null,
   "metadata": {
    "collapsed": true
   },
   "outputs": [],
   "source": [
    "/*\n",
    "Lab1 \n",
    "使用val 宣告一個變數，並嘗試改變其內容值\n",
    "使用var 宣告一個變數，並嘗試改變其內容值\n",
    "*/\n",
    "\n"
   ]
  },
  {
   "cell_type": "code",
   "execution_count": null,
   "metadata": {
    "collapsed": false
   },
   "outputs": [],
   "source": [
    "/*\n",
    "Lab2\n",
    "宣告一個變數，內容為字串，值需要為 `\"``Hello JCConf``\"`\n",
    "宣告一個變數，內容為整數，值需要為 2017\n",
    "拼貼成 一個新字串\n",
    "*/\n"
   ]
  },
  {
   "cell_type": "code",
   "execution_count": null,
   "metadata": {
    "collapsed": true
   },
   "outputs": [],
   "source": [
    "/*\n",
    "Lab3\n",
    "宣告一個mutable 的 ListBuffer ，並在後方加上值\n",
    "需取得一個 ListBuffer[Int](1,2,3,4)\n",
    "宣告一個immutable 的 List ，並在後方加上值\n",
    "需取得一個 List[Int](1,2,3,4)\n",
    "*/\n"
   ]
  },
  {
   "cell_type": "code",
   "execution_count": null,
   "metadata": {
    "collapsed": true
   },
   "outputs": [],
   "source": []
  }
 ],
 "metadata": {
  "kernelspec": {
   "display_name": "Scala 2.11",
   "language": "scala211",
   "name": "scala211"
  },
  "language_info": {
   "codemirror_mode": "text/x-scala",
   "file_extension": ".scala",
   "mimetype": "text/x-scala",
   "name": "scala211",
   "pygments_lexer": "scala",
   "version": "2.11.7"
  }
 },
 "nbformat": 4,
 "nbformat_minor": 1
}

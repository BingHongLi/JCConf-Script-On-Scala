{
 "cells": [
  {
   "cell_type": "code",
   "execution_count": null,
   "metadata": {
    "collapsed": false
   },
   "outputs": [],
   "source": [
    "/*\n",
    "Lab1 \n",
    "\n",
    "使用val 宣告一個變數，並嘗試改變其內容值\n",
    "使用var 宣告一個變數，並嘗試改變其內容值\n",
    "*/\n",
    "val x = 4\n",
    "var y = 6\n",
    "//  x = 46\n",
    "y = 46\n",
    "println(x)\n",
    "println(y)"
   ]
  },
  {
   "cell_type": "code",
   "execution_count": null,
   "metadata": {
    "collapsed": false
   },
   "outputs": [],
   "source": [
    "/*\n",
    "Lab2\n",
    "\n",
    "宣告一個變數，內容為字串，值需要為 \"Hello JCConf\"\n",
    "宣告一個變數，內容為整數，值需要為 2017\n",
    "拼貼成 一個新字串\n",
    "*/\n",
    "\n",
    "var lab2String:String = \"Hello JCConf\"\n",
    "var lab2Int:Int = 2017\n",
    "var lab2 = lab2String + \" \" + lab2Int\n",
    "println(lab2)"
   ]
  },
  {
   "cell_type": "code",
   "execution_count": null,
   "metadata": {
    "collapsed": false
   },
   "outputs": [],
   "source": [
    "/*\n",
    "Lab3\n",
    "\n",
    "宣告一個mutable 的 ListBuffer ，並在後方加上值\n",
    "需取得一個 ListBuffer[Int](1,2,3,4)\n",
    "宣告一個immutable 的 List ，並在後方加上值\n",
    "需取得一個 List[Int](1,2,3,4)\n",
    "宣告一個mutable的 Map，並在裡面加入資料\n",
    "需取得一個 Map[String,Int](\"id\"->1,\"score\"->45)\n",
    "*/\n",
    "\n",
    "var mutableLab3 = scala.collection.mutable.ListBuffer(1,2,3)\n",
    "println(mutableLab3.+=(4))\n",
    "println(mutableLab3)\n",
    "\n",
    "var immutableLab3 = List(1,2,3)\n",
    "println(immutableLab3.:+(4)) \n",
    "println(immutableLab3)"
   ]
  },
  {
   "cell_type": "code",
   "execution_count": null,
   "metadata": {
    "collapsed": false
   },
   "outputs": [],
   "source": [
    "/*\n",
    "Lab4\n",
    "\n",
    "創立一組tuple3，並嘗試從tuple3中取出值\n",
    "*/\n",
    "\n",
    "var lab4 = (1, \"Hello JCConf\" , 2017, 09.29)\n",
    "println(lab4.getClass)\n",
    "println(lab4._1)\n",
    "println(lab4._2)\n",
    "println(lab4._3)\n",
    "println(lab4._4)"
   ]
  },
  {
   "cell_type": "code",
   "execution_count": null,
   "metadata": {
    "collapsed": false
   },
   "outputs": [],
   "source": [
    "/*\n",
    "Lab5\n",
    "\n",
    "利用basicRange 此 collection，做出 ArrayBuffer(5,6,7,8,9)\n",
    "利用basicRange，做出 ArrayBuffer(0,2,4) \n",
    "*/\n",
    "\n",
    "var basicRange  = 0 to 4\n",
    "\n",
    "var lab5First = for (x <- basicRange) yield { x+5 }\n",
    "println(lab5First.toBuffer)\n",
    "\n",
    "val lab5Second = for (x <- basicRange if x%2 == 0) yield { x }\n",
    "println(lab5Second.toBuffer)"
   ]
  },
  {
   "cell_type": "code",
   "execution_count": null,
   "metadata": {
    "collapsed": false
   },
   "outputs": [],
   "source": [
    "/*\n",
    "Lab6\n",
    "\n",
    "引用java的ArrayList\n",
    "將javaList轉換成 scala的collection，並用迴圈將內容改成 4,5,6\n",
    "\n",
    "*/\n",
    "import scala.collection.JavaConverters._\n",
    "val javaList = new java.util.ArrayList[Int]\n",
    "javaList.add(1)\n",
    "javaList.add(2)\n",
    "javaList.add(3)\n",
    "for(i <-javaList.asScala) yield { i + 3}"
   ]
  },
  {
   "cell_type": "code",
   "execution_count": null,
   "metadata": {
    "collapsed": true
   },
   "outputs": [],
   "source": [
    "/*\n",
    "Lab7\n",
    "\n",
    "在jupyter notebook，點開lab7.scala\n",
    "照著講義上樣板，撰寫一個 scalas的樣板\n",
    "在terminal 執行scalas lab7.scala hello world\n",
    "需印出 \n",
    "hello \n",
    "world\n",
    "*/"
   ]
  },
  {
   "cell_type": "code",
   "execution_count": null,
   "metadata": {
    "collapsed": true
   },
   "outputs": [],
   "source": [
    "/*\n",
    "Lab8\n",
    "\n",
    "透過前面所學的Step1-7與Lab1-7，完成此Lab\n",
    "使用scala script，讀取Lab8.html，引入Jsoup套件，使用Jsoup套件萃取威力彩數據，並整理成一份 欄位分隔之資料\n",
    "*/\n",
    "\n",
    "#!/usr/bin/env scalas\n",
    "\n",
    "/***\n",
    "scalaVersion := \"2.11.8\"\n",
    "libraryDependencies ++= Seq(\n",
    "\n",
    "    \"org.jsoup\" % \"jsoup\" % \"1.10.3\"\n",
    "\n",
    ")        \n",
    "*/\n",
    "\n",
    "import org.jsoup.Jsoup\n",
    "import collection.JavaConverters._\n",
    "var htmlFile = new java.io.File(\"./Lab8.html\")\n",
    "var doc = Jsoup.parse(htmlFile,\"UTF-8\")\n",
    "var elements = doc.select(\"table.auto-style1 > tbody > tr\").iterator().asScala\n",
    "var elementsContent = for (element <- elements) yield { element.select(\"td\").eachText().asScala.mkString(\"|\")}\n",
    "var lab8Result = elementsContent.mkString(\"\\r\\n\")\n",
    "print(lab8Result)"
   ]
  },
  {
   "cell_type": "code",
   "execution_count": null,
   "metadata": {
    "collapsed": false
   },
   "outputs": [],
   "source": [
    "/*\n",
    "Lab9\n",
    "\n",
    "使用scala-http訪問此api\n",
    "https://jsonplaceholder.typicode.com/photos\n",
    "取得其body，並將body協派至 lab9result 這個變數\n",
    "*/\n",
    "\n",
    "classpath.add(\n",
    "  \"org.scalaj\" %% \"scalaj-http\" % \"2.3.0\"\n",
    ")"
   ]
  },
  {
   "cell_type": "code",
   "execution_count": null,
   "metadata": {
    "collapsed": false
   },
   "outputs": [],
   "source": [
    "import scalaj.http._\n",
    "var response: HttpResponse[String] = Http(\"https://jsonplaceholder.typicode.com/photos\").asString\n",
    "var lab9result = response.body"
   ]
  },
  {
   "cell_type": "code",
   "execution_count": null,
   "metadata": {
    "collapsed": false
   },
   "outputs": [],
   "source": [
    "/*\n",
    "Lab10\n",
    "\n",
    "使用Lab9的產物， lab9result當做要parse成json的字串\n",
    "轉成json之後，針對albumId 此欄位做統計，看這一整包照片資訊中，每本相簿各有幾張相片\n",
    "以Map[String,Int]的方式封裝統計結果\n",
    "\n",
    "*/\n",
    "classpath.add(\n",
    "  \"com.typesafe.play\" %% \"play-json\" % \"2.6.2\"\n",
    ")"
   ]
  },
  {
   "cell_type": "code",
   "execution_count": null,
   "metadata": {
    "collapsed": false
   },
   "outputs": [],
   "source": [
    "import play.api.libs.json._\n",
    "\n",
    "var lab10Value = Json.parse(lab9result)\n",
    "var albumId = lab10Value.\\\\(\"albumId\")\n",
    "\n",
    "println(albumId.length)\n",
    "\n",
    "var lab10result = collection.mutable.Map[String, Int]()\n",
    "\n",
    "for (pic <- albumId) {\n",
    "  var key = pic.toString()\n",
    "  if (lab10result.keySet.exists( _ == key)){\n",
    "    var values = lab10result(key) + 1\n",
    "    lab10result.put(key, values)\n",
    "  } else {\n",
    "    lab10result.put(key, 1)\n",
    "  }\n",
    "}\n",
    "println(lab10result)"
   ]
  },
  {
   "cell_type": "code",
   "execution_count": null,
   "metadata": {
    "collapsed": false
   },
   "outputs": [],
   "source": [
    "/*\n",
    "Lab11\n",
    "\n",
    "使用Lab10的產物， lab10result，進一步整理成視覺化所需要的data格式 Seq[Map[String,Any]]\n",
    "套用vegas套件轉換成bar圖，輸出成html字串， 協派至 lab11result 此變數。\n",
    "\n",
    "*/\n",
    "classpath.add(\n",
    "  \"org.vegas-viz\" %% \"vegas\" % \"0.3.9\"\n",
    ")"
   ]
  },
  {
   "cell_type": "code",
   "execution_count": null,
   "metadata": {
    "collapsed": false
   },
   "outputs": [],
   "source": [
    "import vegas._\n",
    "val data = for ( x <- lab10result ) yield {\n",
    "  Map(\"albumId\" -> x._1, \"number\" -> x._2)\n",
    "}\n",
    "val lab11result = Vegas(\"Albums\").\n",
    "  withData(\n",
    "    data.toSeq\n",
    "  ).\n",
    "  encodeX(\"albumId\", Nom).\n",
    "  encodeY(\"number\", Quant).\n",
    "  mark(Bar).html.pageHTML()\n",
    "print(lab11result)"
   ]
  },
  {
   "cell_type": "code",
   "execution_count": null,
   "metadata": {
    "collapsed": true
   },
   "outputs": [],
   "source": []
  }
 ],
 "metadata": {
  "kernelspec": {
   "display_name": "Scala 2.11",
   "language": "scala211",
   "name": "scala211"
  },
  "language_info": {
   "codemirror_mode": "text/x-scala",
   "file_extension": ".scala",
   "mimetype": "text/x-scala",
   "name": "scala211",
   "pygments_lexer": "scala",
   "version": "2.11.7"
  }
 },
 "nbformat": 4,
 "nbformat_minor": 1
}

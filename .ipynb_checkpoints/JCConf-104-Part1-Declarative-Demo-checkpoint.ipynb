{
 "cells": [
  {
   "cell_type": "code",
   "execution_count": null,
   "metadata": {
    "collapsed": true
   },
   "outputs": [],
   "source": [
    "/*\n",
    "使用Declarative的編寫風格來完成與先前imperative編寫風格的相同任務\n",
    "並同時稍微引入 scala 在實踐fp時，所使用的資料型別。\n",
    "*/"
   ]
  },
  {
   "cell_type": "code",
   "execution_count": null,
   "metadata": {
    "collapsed": false
   },
   "outputs": [],
   "source": [
    "/*\n",
    "相關套件引入。\n",
    "scalaj-http  // http client \n",
    "play-json  // json處理套件\n",
    "vegas  // 可視化套件\n",
    "http4s // 輕量 http server套件 \n",
    "*/\n",
    "classpath.add(\n",
    "\n",
    "  \"org.scalaj\" %% \"scalaj-http\" % \"2.3.0\",\n",
    "  \n",
    "  \"com.typesafe.play\" %% \"play-json\" % \"2.6.2\",\n",
    "  \n",
    "  \"org.vegas-viz\" %% \"vegas\" % \"0.3.9\",\n",
    "  \n",
    "  \"org.http4s\" %% \"http4s-dsl\" % \"0.15.16a\",\n",
    "  \"org.http4s\" %% \"http4s-blaze-server\" % \"0.15.16a\",\n",
    "  \"org.http4s\" %% \"http4s-blaze-client\" % \"0.15.16a\"\n",
    ")"
   ]
  },
  {
   "cell_type": "code",
   "execution_count": null,
   "metadata": {
    "collapsed": false
   },
   "outputs": [],
   "source": [
    "/*\n",
    "爬取104 與 scala相關的工作\n",
    "*/\n",
    "\n",
    "import scalaj.http._\n",
    "val response: HttpResponse[String] = Http(\"http://www.104.com.tw/i/apis/jobsearch.cfm\")\n",
    "  .param(\"kws\",\"java\")\n",
    "  .param(\"kwop\",\"3\")\n",
    "  .param(\"role\",\"0\")\n",
    "  .param(\"fmt\",\"8\")\n",
    "  .param(\"page\",\"1\")\n",
    "  .param(\"pgsz\",\"50\")\n",
    "  .asString"
   ]
  },
  {
   "cell_type": "code",
   "execution_count": null,
   "metadata": {
    "collapsed": false
   },
   "outputs": [],
   "source": [
    "\n",
    "// 轉換成Json作處理\n",
    "import play.api.libs.json._\n",
    "val resultJson = Json.parse(response.body)\n",
    " \n",
    "// 找出總筆數\n",
    "val jobSize = resultJson.\\(\"RECORDCOUNT\").as[String].toInt\n",
    "\n",
    "// 以一頁兩千筆的方式計算總共要訪問幾次，生成一個集合 Seq(1,2,3,...)\n",
    "val freq = 1 to ((jobSize / 100) +1)\n"
   ]
  },
  {
   "cell_type": "code",
   "execution_count": null,
   "metadata": {
    "collapsed": false
   },
   "outputs": [],
   "source": [
    "// 爬取數據\n",
    "val rawDataArray = freq.map{ page =>\n",
    "\n",
    "  val pageResponse = Http(\"http://www.104.com.tw/i/apis/jobsearch.cfm\")\n",
    "  .param(\"kws\",\"java\")\n",
    "  .param(\"kwop\",\"3\")\n",
    "  .param(\"role\",\"0\")\n",
    "  .param(\"fmt\",\"8\")\n",
    "  .param(\"page\",s\"$page\")\n",
    "  .param(\"pgsz\",\"50\")\n",
    "  .asString\n",
    "\n",
    "// 將每一個response的body 當作最終處理回傳值  \n",
    "  pageResponse.body\n",
    "  \n",
    "}\n"
   ]
  },
  {
   "cell_type": "code",
   "execution_count": null,
   "metadata": {
    "collapsed": false
   },
   "outputs": [],
   "source": [
    "// 整理資料的步驟\n",
    "\n",
    "// 整理成一條Array內包含多條Array\n",
    "val step1ExtractData = rawDataArray.map{ responseJsonBody =>\n",
    "    Json.parse(responseJsonBody).\\(\"data\").\\\\(\"ADDR_NO_DESCRIPT\")\n",
    "  } \n",
    "\n",
    "println(step1ExtractData)\n",
    "\n",
    "//   .groupBy(element => element )  // 統計裡面的值，並告知用值當作key\n",
    "//   .mapValues(_.size) // \n",
    "\n",
    "// println(jobCountMap)\n"
   ]
  },
  {
   "cell_type": "code",
   "execution_count": null,
   "metadata": {
    "collapsed": false
   },
   "outputs": [],
   "source": [
    "// 把所有Array 都壓平在一條Array\n",
    "val step2FlattenToOneArray = step1ExtractData.flatten\n",
    "println(step2FlattenToOneArray)"
   ]
  },
  {
   "cell_type": "code",
   "execution_count": null,
   "metadata": {
    "collapsed": false
   },
   "outputs": [],
   "source": [
    "// 把裡面的值當作key，並把相同值歸併在同一組key中\n",
    "val step3GroupValueByKey = step2FlattenToOneArray.groupBy(element => element )\n",
    "println(step3GroupValueByKey)"
   ]
  },
  {
   "cell_type": "code",
   "execution_count": null,
   "metadata": {
    "collapsed": false
   },
   "outputs": [],
   "source": [
    "// 把key所對應到的records 做處理\n",
    "// 統計長度，並將長度當作回傳值\n",
    "val step4toKeyMap = step3GroupValueByKey.mapValues(records => records.size)  \n",
    "println(step4toKeyMap)"
   ]
  },
  {
   "cell_type": "code",
   "execution_count": null,
   "metadata": {
    "collapsed": false
   },
   "outputs": [],
   "source": [
    "// 將所有步驟一口氣在一個變數內做完\n",
    "val jobCountMap = rawDataArray.map{ responseJsonBody =>\n",
    "    Json.parse(responseJsonBody).\\(\"data\").\\\\(\"ADDR_NO_DESCRIPT\")\n",
    "  }.flatten.groupBy(element=>element).mapValues(records => records.size) "
   ]
  },
  {
   "cell_type": "code",
   "execution_count": null,
   "metadata": {
    "collapsed": false
   },
   "outputs": [],
   "source": [
    "// 將該Map變成一個Seq[tuple(key,value)]，並要求用value做sort排序\n",
    "val sortJobCountMap = jobCountMap.toSeq.sortBy(  _._2)\n",
    "\n",
    "// 取前面十筆\n",
    "val topTen = sortJobCountMap.takeRight(10)"
   ]
  },
  {
   "cell_type": "code",
   "execution_count": null,
   "metadata": {
    "collapsed": false
   },
   "outputs": [],
   "source": [
    "// 轉成可視化所需的資料格式\n",
    "val visualTopTen = topTen.map{ record =>\n",
    "  Map(\"Country\"->record._1, \"jobCount\" -> record._2)\n",
    "}\n",
    "println(visualTopTen)"
   ]
  },
  {
   "cell_type": "code",
   "execution_count": null,
   "metadata": {
    "collapsed": false
   },
   "outputs": [],
   "source": [
    "// 輸出可視化的html\n",
    "import vegas._\n",
    "import vegas.data.External._\n",
    "\n",
    "val showHtml = Vegas(\"Java Job Count by each location \")\n",
    "  .withData( visualTopTen )\n",
    "  .encodeX(\"Country\", Ordinal)\n",
    "  .encodeY(\"jobCount\", Quantitative)\n",
    "  .mark(Bar).html.pageHTML()\n",
    "\n",
    "println(showHtml)"
   ]
  },
  {
   "cell_type": "code",
   "execution_count": null,
   "metadata": {
    "collapsed": false
   },
   "outputs": [],
   "source": [
    "/*\n",
    "將showHtml寫進檔案內\n",
    "檔案寫入時可能會出意外，我們選擇使用scala的特有container type，類似try catch之功效\n",
    "*/\n",
    "\n",
    "val newHtmlFile = new java.io.FileWriter(\"104-Demo-Declarative.html\",false)\n",
    "import scala.util.Try\n",
    "\n",
    "val sideEffect = Try{\n",
    "  newHtmlFile.write(showHtml)\n",
    "}\n",
    "\n",
    "println(sideEffect)"
   ]
  },
  {
   "cell_type": "code",
   "execution_count": null,
   "metadata": {
    "collapsed": true
   },
   "outputs": [],
   "source": []
  }
 ],
 "metadata": {
  "kernelspec": {
   "display_name": "Scala 2.11",
   "language": "scala211",
   "name": "scala211"
  },
  "language_info": {
   "codemirror_mode": "text/x-scala",
   "file_extension": ".scala",
   "mimetype": "text/x-scala",
   "name": "scala211",
   "pygments_lexer": "scala",
   "version": "2.11.7"
  }
 },
 "nbformat": 4,
 "nbformat_minor": 1
}

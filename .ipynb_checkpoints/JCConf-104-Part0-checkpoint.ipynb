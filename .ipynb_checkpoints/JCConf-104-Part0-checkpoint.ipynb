{
 "cells": [
  {
   "cell_type": "code",
   "execution_count": null,
   "metadata": {
    "collapsed": true
   },
   "outputs": [],
   "source": [
    "/*\n",
    "104-Part0\n",
    "\n",
    "在此階段，我們將會先行體驗，流程中會使用的各個套件\n",
    "scalaj-http\n",
    "play-json\n",
    "vegas\n",
    "http4s\n",
    "\n",
    "*/"
   ]
  },
  {
   "cell_type": "code",
   "execution_count": null,
   "metadata": {
    "collapsed": false
   },
   "outputs": [],
   "source": [
    "/*\n",
    "Step9- scalaj-http\n",
    "\n",
    "在server-client端的架構中，我們需要使用一個http client來跟http server進行溝通。\n",
    "scalaj-http在scala社群中，屬於間單易用的一個套件。\n",
    "\n",
    "現在我們就用此服務，以GET方法訪問一個http service試試看。\n",
    "https://jsonplaceholder.typicode.com/albums\n",
    "*/\n"
   ]
  },
  {
   "cell_type": "code",
   "execution_count": 5,
   "metadata": {
    "collapsed": false
   },
   "outputs": [
    {
     "name": "stdout",
     "output_type": "stream",
     "text": [
      "Adding 0 artifact(s)\n"
     ]
    },
    {
     "data": {
      "text/plain": []
     },
     "metadata": {},
     "output_type": "display_data"
    }
   ],
   "source": [
    "// 載入scalaj-http套件\n",
    "classpath.add(\n",
    "  \"org.scalaj\" %% \"scalaj-http\" % \"2.3.0\"\n",
    ")"
   ]
  },
  {
   "cell_type": "code",
   "execution_count": null,
   "metadata": {
    "collapsed": false
   },
   "outputs": [],
   "source": [
    "// 啟用客戶端訪問 https://jsonplaceholder.typicode.com/albums\n",
    "import scalaj.http._\n",
    "val step9Result  = Http(\"https://jsonplaceholder.typicode.com/albums\").asString\n",
    "println(step9Result.body)"
   ]
  },
  {
   "cell_type": "code",
   "execution_count": null,
   "metadata": {
    "collapsed": false
   },
   "outputs": [],
   "source": [
    "// 使用Query String\n",
    "import scalaj.http._\n",
    "val responseWithQueryString  = Http(\"https://jsonplaceholder.typicode.com/albums\")\n",
    "  .param(\"id\",\"2\")\n",
    "  .asString\n",
    "\n",
    "println(responseWithQueryString.body)"
   ]
  },
  {
   "cell_type": "code",
   "execution_count": null,
   "metadata": {
    "collapsed": true
   },
   "outputs": [],
   "source": [
    "/*\n",
    "Lab9\n",
    "\n",
    "使用scala-http訪問此api\n",
    "https://jsonplaceholder.typicode.com/users\n",
    "取得其response body，並將response body協派至 lab9result 這個變數\n",
    "*/"
   ]
  },
  {
   "cell_type": "code",
   "execution_count": null,
   "metadata": {
    "collapsed": true
   },
   "outputs": [],
   "source": [
    "/*\n",
    "Step10- play-json\n",
    "\n",
    "有時我們會取得json資料，若想要取得其中資訊，必須對json做parser。\n",
    "\n",
    "play-json屬於 play-framework的一個支線Library，\n",
    "是scala相當成熟的json parser套件，同時兼顧了imperative及declarative的用戶\n",
    "\n",
    "下面我們將展示如何將字串轉成play-json可操作的物件，並透過該物件的方法，抽取出我們想要的數據。\n",
    "*/"
   ]
  },
  {
   "cell_type": "code",
   "execution_count": null,
   "metadata": {
    "collapsed": false
   },
   "outputs": [],
   "source": [
    "// 載入play-json套件\n",
    "classpath.add(\n",
    "  \"com.typesafe.play\" %% \"play-json\" % \"2.6.2\"\n",
    ")"
   ]
  },
  {
   "cell_type": "code",
   "execution_count": null,
   "metadata": {
    "collapsed": false
   },
   "outputs": [],
   "source": [
    "// 引用套件\n",
    "import play.api.libs.json._\n",
    "\n",
    "// 將在第九階段取得的json 字串 轉成play json 能操作的物件\n",
    "val step10playJson = Json.parse(step9Result.body).as[Array[JsValue]]\n",
    "\n",
    "// 搜尋 json array中 各object內指定欄位值\n",
    "// println(step10playJson.\\\\(\"userId\"))  // Seq[JsValue]\n",
    "\n",
    "// 搜尋指定json object內的特定欄位值，\n",
    "// println(step10playJson(0).\\(\"userId\"))  // JsDefined(1)\n",
    "// println(step10playJson(0).\\(\"userId\").getClass)  \n",
    "\n",
    "// 將內容轉成Int\n",
    "// println(step10playJson(0).\\(\"userId\").as[Int])   // 1\n",
    "// println(step10playJson(0).\\(\"userId\").as[Int].getClass) // int\n",
    "\n",
    "\n",
    "//   統計用戶出現了幾次\n",
    "var mutableMap = collection.mutable.Map.empty[String,Int]\n",
    "for(eachJsonObject <- step10playJson ){\n",
    "\n",
    "  var key = eachJsonObject.\\(\"userId\").get.toString\n",
    "\n",
    "  mutableMap.update(key, mutableMap.getOrElse(key,0)+1 )\n",
    "  // getOrElse的定義為取值，若無值則改做其他事，此處無值則給0\n",
    "}\n",
    "\n",
    "// println(mutableMap)"
   ]
  },
  {
   "cell_type": "code",
   "execution_count": null,
   "metadata": {
    "collapsed": true
   },
   "outputs": [],
   "source": [
    "/*\n",
    "Lab10\n",
    "\n",
    "使用Lab9的產物， lab9result當做要parse成json的字串\n",
    "轉成json之後，針對albumId 此欄位做統計，看這一整包照片資訊中，每本相簿各有幾張相片\n",
    "以Map[String,Int]的方式封裝統計結果，協派至 lab10result 此變數\n",
    "\n",
    "*/"
   ]
  },
  {
   "cell_type": "code",
   "execution_count": null,
   "metadata": {
    "collapsed": true
   },
   "outputs": [],
   "source": [
    "/*\n",
    "Step11\n",
    "\n",
    "數據可視化\n",
    "視覺圖表勝過千言萬語，為了讓大家對數據更有體驗，我們選用vegas作為基礎視覺化的套件\n",
    "\n",
    "*/"
   ]
  },
  {
   "cell_type": "code",
   "execution_count": null,
   "metadata": {
    "collapsed": false
   },
   "outputs": [],
   "source": [
    "// 載入vegas套件\n",
    "classpath.add(\n",
    "  \"org.vegas-viz\" %% \"vegas\" % \"0.3.9\"\n",
    ")"
   ]
  },
  {
   "cell_type": "code",
   "execution_count": null,
   "metadata": {
    "collapsed": false
   },
   "outputs": [],
   "source": [
    "// 引用套件\n",
    "import vegas._\n",
    "import vegas.data.External._\n",
    "\n",
    "// 需將資料轉換成Seq[Map[String,Int]] 一個用做X軸，一個用做y軸 \n",
    "var mapKeysCollection = mutableMap.keys\n",
    "\n",
    "// 引入ArrayBuffer套件\n",
    "import scala.collection.mutable.ArrayBuffer\n",
    "\n",
    "// 事先創造好一個ArrayBuffer，用來塞處理好的資料\n",
    "var visualData = ArrayBuffer.empty[Map[String,Any]]\n",
    "\n",
    "// 在每一次迴圈操作時把資料整併成 Map(\"id\"-> 值 , \"freq\" -> 次數)，而後塞回先前創造好的ArrayBuffer\n",
    "for(key <- mapKeysCollection ){\n",
    "  visualData.+=(Map(\"id\"-> key, \"freq\" -> mutableMap.getOrElse(key,0)))\n",
    "  \n",
    "}\n",
    "\n",
    "// 轉成可視化的網頁\n",
    "// 觀察每個id出現的次數\n",
    "val showHtml = Vegas(\"id stat\")\n",
    "  .withData( visualData )\n",
    "  .encodeX(\"id\", Ordinal)\n",
    "  .encodeY(\"freq\", Quantitative)\n",
    "  .mark(Bar).html.pageHTML()\n",
    "\n",
    "println(showHtml)"
   ]
  },
  {
   "cell_type": "code",
   "execution_count": null,
   "metadata": {
    "collapsed": true
   },
   "outputs": [],
   "source": [
    "/*\n",
    "Lab11\n",
    "\n",
    "使用Lab10的產物， lab10result，進一步整理成視覺化所需要的data格式 Seq[Map[String,Any]]\n",
    "套用vegas套件轉換成bar圖，輸出成html字串， 協派至 lab11result 此變數。\n",
    "\n",
    "*/"
   ]
  },
  {
   "cell_type": "code",
   "execution_count": null,
   "metadata": {
    "collapsed": true
   },
   "outputs": [],
   "source": [
    "/*\n",
    "Step12\n",
    "\n",
    "有時候我們希望自己所做的服務，能夠透過網路的方式呈現在多用戶前面，\n",
    "此刻若有一個http server，便能很好達成這個目標\n",
    "\n",
    "寫一個http server，使方才生成的html頁面能夠傳輸至給多位終端用戶的瀏覽器上。\n",
    "在這裡我們選用一個輕量的http server套件 http4s\n",
    "\n",
    "*/"
   ]
  },
  {
   "cell_type": "code",
   "execution_count": null,
   "metadata": {
    "collapsed": true
   },
   "outputs": [],
   "source": [
    "// 載入套件\n",
    "classpath.add(\n",
    "  \"org.http4s\" %% \"http4s-dsl\" % \"0.15.16a\",\n",
    "  \"org.http4s\" %% \"http4s-blaze-server\" % \"0.15.16a\",\n",
    "  \"org.http4s\" %% \"http4s-blaze-client\" % \"0.15.16a\"\n",
    ")"
   ]
  },
  {
   "cell_type": "code",
   "execution_count": null,
   "metadata": {
    "collapsed": true
   },
   "outputs": [],
   "source": [
    "// 引用http4s \n",
    "import org.http4s._, org.http4s.dsl._\n",
    "\n",
    "// 編寫service，將商業邏輯寫於此\n",
    "// 當用戶使用Get 方法訪問此urn時，會執行我們預期的行為。\n",
    "val step12Service = HttpService {\n",
    "  case GET -> Root / \"step12\" =>{\n",
    "    Ok(showHtml).putHeaders(Header(\"Content-type\",\"text/html; charset=utf-8\"))\n",
    "  } \n",
    "}\n",
    "\n",
    "// 引用server所需套件\n",
    "import org.http4s.server.blaze._\n",
    "import org.http4s.server.syntax._\n",
    "import org.http4s.server.middleware._\n",
    "\n",
    "// 將先前所寫的step12Service，掛載至server上。\n",
    "val builder = BlazeBuilder.bindHttp(9000, \"0.0.0.0\")\n",
    "  .mountService(CORS(helloWorldService), \"/\")\n",
    "  \n",
    "// 啟用Server  \n",
    "val server = builder.run"
   ]
  },
  {
   "cell_type": "code",
   "execution_count": null,
   "metadata": {
    "collapsed": true
   },
   "outputs": [],
   "source": [
    "/*\n",
    "\n",
    "現在已經跟大家介紹完，稍後會使用到的套件\n",
    "\n",
    "接下來我們將會以104的徵才網站作為工作坊的實作目標\n",
    "在實作的過程中，我們會以imperative與 declarative 的方式，針對同一種功能進行開發\n",
    "\n",
    "在實作declarative的時候，我們會開始跟大家介紹Scala一些迷人的容器型別，同時跟大家淺談FP。\n",
    "\n",
    "在這個資料時代，我們確確實實需要一個同時兼具物件導向與FP導向的程式語言來協助我們開發資料流類型的應用。\n",
    "\n",
    "*/"
   ]
  }
 ],
 "metadata": {
  "kernelspec": {
   "display_name": "Scala 2.11",
   "language": "scala211",
   "name": "scala211"
  },
  "language_info": {
   "codemirror_mode": "text/x-scala",
   "file_extension": ".scala",
   "mimetype": "text/x-scala",
   "name": "scala211",
   "pygments_lexer": "scala",
   "version": "2.11.7"
  }
 },
 "nbformat": 4,
 "nbformat_minor": 1
}

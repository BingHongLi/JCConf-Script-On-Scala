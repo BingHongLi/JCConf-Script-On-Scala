{
 "cells": [
  {
   "cell_type": "code",
   "execution_count": null,
   "metadata": {
    "collapsed": true
   },
   "outputs": [],
   "source": [
    "/*\n",
    "\n",
    "在這個Imperative的編寫style Demo中，\n",
    "我們會以scalaj-http抓取104關於java的數據\n",
    "並透過play-json抓出各工作的地點，並統計出各地區對於java工程師的需求量\n",
    "再透過vegas，做資料可視化\n",
    "\n",
    "*/"
   ]
  },
  {
   "cell_type": "code",
   "execution_count": 1,
   "metadata": {
    "collapsed": false
   },
   "outputs": [
    {
     "name": "stdout",
     "output_type": "stream",
     "text": [
      "Adding 50 artifact(s)\n"
     ]
    },
    {
     "data": {
      "text/plain": []
     },
     "metadata": {},
     "output_type": "display_data"
    }
   ],
   "source": [
    "// 載入套件\n",
    "classpath.add(\n",
    "\n",
    "  \"org.scalaj\" %% \"scalaj-http\" % \"2.3.0\",\n",
    "  \"com.typesafe.play\" %% \"play-json\" % \"2.6.2\",\n",
    "  \n",
    "  \"org.vegas-viz\" %% \"vegas\" % \"0.3.9\",\n",
    "  \n",
    "  \"org.http4s\" %% \"http4s-dsl\" % \"0.15.16a\",\n",
    "  \"org.http4s\" %% \"http4s-blaze-server\" % \"0.15.16a\",\n",
    "  \"org.http4s\" %% \"http4s-blaze-client\" % \"0.15.16a\"\n",
    ")"
   ]
  },
  {
   "cell_type": "code",
   "execution_count": 2,
   "metadata": {
    "collapsed": false
   },
   "outputs": [
    {
     "data": {
      "text/plain": [
       "\u001b[32mimport \u001b[36mscalaj.http._\u001b[0m\n",
       "\u001b[36mresponse\u001b[0m: \u001b[32mscalaj\u001b[0m.\u001b[32mhttp\u001b[0m.\u001b[32mHttpResponse\u001b[0m[\u001b[32mString\u001b[0m] = \u001b[33mHttpResponse\u001b[0m(\n",
       "  \u001b[32m\"\"\"\n",
       "{\"RECORDCOUNT\":\"4658\",\"PAGECOUNT\":\"50\",\"PAGE\":\"1\",\"TOTALPAGE\":\"94\",\"data\":[{\"ADDRESS\":\"林森南路4之2號7樓\",\"ADDR_INDZONE\":\"\",\"ADDR_NO_DESCRIPT\":\"台北市中正區\",\"APPEAR_DATE\":\"20170819\",\"APPEAR_TIME\":\"20170819180509\",\"C\":\"383a43293c363e683c423b1d1d1d1d5f2443a363189j56\",\"CERT_ALL_DESCRIPT\":\"\",\"DESCRIPTION\":\"1.建置與開發網站前後台\\n2.資料庫建置與規劃\\n3.程式開發與維護\\n4.熟悉.net(C#、VB) C#尤佳，及MS SQL\\n5.熟悉Ajax、Java Script、CSS等相關網頁開發技術\\n6.熟MVC開發架構佳\\n7.具備三層式架構，N-Tier及OOP經驗，若有Team Foundation 經驗佳\",\"DIS_LEVEL\":\"0\",\"DIS_LEVEL2\":\"0\",\"DIS_LEVEL3\":\"0\",\"DIS_ROLE\":\"0\",\"DIS_ROLE2\":\"0\",\"DIS_ROLE3\":\"0\",\"DRIVER\":\"0\",\"HANDICOMPENDIUM\":\"0\",\"INDCAT\":\"資訊軟體服務\",\"J\":\"5d49426c335b3e55303139622b2d361c93f39416b3f453e2020202064373a2524290j00\",\"JOB\":\"Asp.Net ,C# 程式設計師\",\"JOBCAT_DESCRIPT\":\"軟體設計工程師@Internet程式設計師@MIS程式設計師\",\"JOBSKILL_ALL_DESC\":\"\",\"JOB_ADDRESS\":\"林森南路4之2號7樓\",\"JOB_ADDR_NO_DESCRIPT\":\"台北市中正區\",\"LANGUAGE1\":\"001111\",\"LANGUAGE2\":\"001111\",\"LANGUAGE3\":\"001111\",\"LAT\":\"25.043836\",\"LINK\":\"http://www.frog-jump.com/\",\"LON\":\"121.522938\",\"MAJOR_CAT_DESCRIPT\":\"類目@類目@類目\",\"MINBINARY_EDU\":\"-1\",\"NAME\":\"德義資訊股份有限公司\",\"NEED_EMP\":\"1\",\"NEED_EMP1\":\"3\",\"OTHERS\":\"1. ASP.NET 2.0或以上，ASP.NET 1.1經驗2年以上亦可，若有ASP.NET 3.5經驗尤佳\\n2. 具備 UML 觀念 \\n3. Object-relational mapping，LINQ、ADO.NET Entity Framework \\n4. 具備Microsoft 相關認證尤佳\\n5. 對程式開發及軟體工程具有熱情，願意嘗試新技術及架構\\n6. 願意以負責任的態度，對工作及所產出之程式進行品質管理\\n7. 良好的溝通與傾聽能力、團隊配合度高，負責任，可獨立執行交辦任務進行程式開發者，學習力強\",\"PCSKILL_ALL_DESC\":\"ASP.NET C#\",\"PERIOD\":\"03\",\"PRODUCT\":\"＊軟體開發服務\\n包含系統建置、系統整合及顧問服務\\n\\n\u001b[33m...\u001b[0m\n",
       "\u001b[32mimport \u001b[36mplay.api.libs.json._\u001b[0m\n",
       "\u001b[36mresultJson\u001b[0m: \u001b[32mplay\u001b[0m.\u001b[32mapi\u001b[0m.\u001b[32mlibs\u001b[0m.\u001b[32mjson\u001b[0m.\u001b[32mJsValue\u001b[0m = {\"RECORDCOUNT\":\"4658\",\"PAGECOUNT\":\"50\",\"PAGE\":\"1\",\"TOTALPAGE\":\"94\",\"data\":[{\"ADDRESS\":\"林森南路4之2號7樓\",\"ADDR_INDZONE\":\"\",\"ADDR_NO_DESCRIPT\":\"台北市中正區\",\"APPEAR_DATE\":\"20170819\",\"APPEAR_TIME\":\"20170819180509\",\"C\":\"383a43293c363e683c423b1d1d1d1d5f2443a363189j56\",\"CERT_ALL_DESCRIPT\":\"\",\"DESCRIPTION\":\"1.建置與開發網站前後台\\n2.資料庫建置與規劃\\n3.程式開發與維護\\n4.熟悉.net(C#、VB) C#尤佳，及MS SQL\\n5.熟悉Ajax、Java Script、CSS等相關網頁開發技術\\n6.熟MVC開發架構佳\\n7.具備三層式架構，N-Tier及OOP經驗，若有Team Foundation 經驗佳\",\"DIS_LEVEL\":\"0\",\"DIS_LEVEL2\":\"0\",\"DIS_LEVEL3\":\"0\",\"DIS_ROLE\":\"0\",\"DIS_ROLE2\":\"0\",\"DIS_ROLE3\":\"0\",\"DRIVER\":\"0\",\"HANDICOMPENDIUM\":\"0\",\"INDCAT\":\"資訊軟體服務\",\"J\":\"5d49426c335b3e55303139622b2d361c93f39416b3f453e2020202064373a2524290j00\",\"JOB\":\"Asp.Net ,C# 程式設計師\",\"JOBCAT_DESCRIPT\":\"軟體設計工程師@Internet程式設計師@MIS程式設計師\",\"JOBSKILL_ALL_DESC\":\"\",\"JOB_ADDRESS\":\"林森南路4之2號7樓\",\"JOB_ADDR_NO_DESCRIPT\":\"台北市中正區\",\"LANGUAGE1\":\"001111\",\"LANGUAGE2\":\"001111\",\"LANGUAGE3\":\"001111\",\"LAT\":\"25.043836\",\"LINK\":\"http://www.frog-jump.com/\",\"LON\":\"121.522938\",\"MAJOR_CAT_DESCRIPT\":\"類目@類目@類目\",\"MINBINARY_EDU\":\"-1\",\"NAME\":\"德義資訊股份有限公司\",\"NEED_EMP\":\"1\",\"NEED_EMP1\":\"3\",\"OTHERS\":\"1. ASP.NET 2.0或以上，ASP.NET 1.1經驗2年以上亦可，若有ASP.NET 3.5經驗尤佳\\n2. 具備 UML 觀念 \\n3. Object-relational mapping，LINQ、ADO.NET Entity Framework \\n4. 具備Microsoft 相關認證尤佳\\n5. 對程式開發及軟體工程具有熱情，願意嘗試新技術及架構\\n6. 願意以負責任的態度，對工作及所產出之程式進行品質管理\\n7. 良好的溝通與傾聽能力、團隊配合度高，負責任，可獨立執行交辦任務進行程式開發者，學習力強\",\"PCSKILL_ALL_DESC\":\"ASP.NET C#\",\"PERIOD\":\"03\",\"PRODUCT\":\"＊軟體開發服務\\n包含系統建置、系統整合及顧問服務\\n\\n＊專案開發\\n德義資訊專案團隊憑藉在網際網路、應用軟體開發等多方面業務的綜合實力和豐富經驗，為使用者提供全面的專案軟體服務。\\n\\n＊專業技術顧問服務\\n   －駐點程式設計服務\\n   －駐點軟體測試服務\\n   －應用軟體發展專業委外\\n\\n＊.雲端計算應用轉換工具及相關技術服務\\n＊SOA資訊技術服務\\n＊Web\u001b[33m...\u001b[0m\n",
       "\u001b[36mjobSize\u001b[0m: \u001b[32mInt\u001b[0m = \u001b[32m4658\u001b[0m\n",
       "\u001b[36mfreq\u001b[0m: \u001b[32mInt\u001b[0m = \u001b[32m47\u001b[0m"
      ]
     },
     "metadata": {},
     "output_type": "display_data"
    }
   ],
   "source": [
    "// 先對104的service發一個小request，得知java的工作資料總筆數，而後用迴圈爬完各個分頁\n",
    "import scalaj.http._\n",
    "val response: HttpResponse[String] = Http(\"http://www.104.com.tw/i/apis/jobsearch.cfm\")\n",
    "  .param(\"kws\",\"java\")\n",
    "  .param(\"kwop\",\"3\")\n",
    "  .param(\"role\",\"0\")\n",
    "  .param(\"fmt\",\"8\")\n",
    "  .param(\"page\",\"1\")\n",
    "  .param(\"pgsz\",\"50\")\n",
    "  .asString\n",
    "\n",
    "// 轉換成Json作處理\n",
    "import play.api.libs.json._\n",
    "\n",
    "val resultJson = Json.parse(response.body)\n",
    " \n",
    "// 找出總筆數\n",
    "val jobSize = resultJson.\\(\"RECORDCOUNT\").as[String].toInt\n",
    "\n",
    "// 以一頁兩千筆的方式計算總共要訪問幾次\n",
    "val freq = (jobSize / 100) +1\n"
   ]
  },
  {
   "cell_type": "code",
   "execution_count": 3,
   "metadata": {
    "collapsed": false
   },
   "outputs": [
    {
     "data": {
      "text/plain": [
       "\u001b[32mimport \u001b[36mscala.collection.mutable.ArrayBuffer\u001b[0m\n",
       "\u001b[36mtraditionArray\u001b[0m: \u001b[32mcollection\u001b[0m.\u001b[32mmutable\u001b[0m.\u001b[32mArrayBuffer\u001b[0m[\u001b[32mString\u001b[0m] = \u001b[33mArrayBuffer\u001b[0m(\n",
       "  \u001b[32m\"\"\"\n",
       "{\"RECORDCOUNT\":\"4658\",\"PAGECOUNT\":\"50\",\"PAGE\":\"1\",\"TOTALPAGE\":\"94\",\"data\":[{\"ADDRESS\":\"林森南路4之2號7樓\",\"ADDR_INDZONE\":\"\",\"ADDR_NO_DESCRIPT\":\"台北市中正區\",\"APPEAR_DATE\":\"20170819\",\"APPEAR_TIME\":\"20170819180509\",\"C\":\"383a43293c363e683c423b1d1d1d1d5f2443a363189j56\",\"CERT_ALL_DESCRIPT\":\"\",\"DESCRIPTION\":\"1.建置與開發網站前後台\\n2.資料庫建置與規劃\\n3.程式開發與維護\\n4.熟悉.net(C#、VB) C#尤佳，及MS SQL\\n5.熟悉Ajax、Java Script、CSS等相關網頁開發技術\\n6.熟MVC開發架構佳\\n7.具備三層式架構，N-Tier及OOP經驗，若有Team Foundation 經驗佳\",\"DIS_LEVEL\":\"0\",\"DIS_LEVEL2\":\"0\",\"DIS_LEVEL3\":\"0\",\"DIS_ROLE\":\"0\",\"DIS_ROLE2\":\"0\",\"DIS_ROLE3\":\"0\",\"DRIVER\":\"0\",\"HANDICOMPENDIUM\":\"0\",\"INDCAT\":\"資訊軟體服務\",\"J\":\"5d49426c335b3e55303139622b2d361c93f39416b3f453e2020202064373a2524290j00\",\"JOB\":\"Asp.Net ,C# 程式設計師\",\"JOBCAT_DESCRIPT\":\"軟體設計工程師@Internet程式設計師@MIS程式設計師\",\"JOBSKILL_ALL_DESC\":\"\",\"JOB_ADDRESS\":\"林森南路4之2號7樓\",\"JOB_ADDR_NO_DESCRIPT\":\"台北市中正區\",\"LANGUAGE1\":\"001111\",\"LANGUAGE2\":\"001111\",\"LANGUAGE3\":\"001111\",\"LAT\":\"25.043836\",\"LINK\":\"http://www.frog-jump.com/\",\"LON\":\"121.522938\",\"MAJOR_CAT_DESCRIPT\":\"類目@類目@類目\",\"MINBINARY_EDU\":\"-1\",\"NAME\":\"德義資訊股份有限公司\",\"NEED_EMP\":\"1\",\"NEED_EMP1\":\"3\",\"OTHERS\":\"1. ASP.NET 2.0或以上，ASP.NET 1.1經驗2年以上亦可，若有ASP.NET 3.5經驗尤佳\\n2. 具備 UML 觀念 \\n3. Object-relational mapping，LINQ、ADO.NET Entity Framework \\n4. 具備Microsoft 相關認證尤佳\\n5. 對程式開發及軟體工程具有熱情，願意嘗試新技術及架構\\n6. 願意以負責任的態度，對工作及所產出之程式進行品質管理\\n7. 良好的溝通與傾聽能力、團隊配合度高，負責任，可獨立執行交辦任務進行程式開發者，學習力強\",\"PCSKILL_ALL_DESC\":\"ASP.NET C#\",\"PERIOD\":\"03\",\"PRODUCT\":\"＊軟體開發服務\\n包含系統建置、系統整合及顧問服務\\n\\n\u001b[33m...\u001b[0m"
      ]
     },
     "metadata": {},
     "output_type": "display_data"
    }
   ],
   "source": [
    "// 將所爬下來的資料，放入Array中\n",
    "// 傳統迴圈的方式\n",
    "import scala.collection.mutable.ArrayBuffer\n",
    "\n",
    "var traditionArray = ArrayBuffer[String]()\n",
    "\n",
    "for (i <- 1 to freq){\n",
    "  val t = Http(\"http://www.104.com.tw/i/apis/jobsearch.cfm\")\n",
    "  .param(\"kws\",\"java\")\n",
    "  .param(\"kwop\",\"3\")\n",
    "  .param(\"role\",\"0\")\n",
    "  .param(\"fmt\",\"8\")\n",
    "  .param(\"page\",s\"$i\")\n",
    "  .param(\"pgsz\",\"50\")\n",
    "  .asString\n",
    "  traditionArray += t.body\n",
    "}"
   ]
  },
  {
   "cell_type": "code",
   "execution_count": 4,
   "metadata": {
    "collapsed": false
   },
   "outputs": [
    {
     "data": {
      "text/plain": [
       "\u001b[36mforCalculate\u001b[0m: \u001b[32mArrayBuffer\u001b[0m[\u001b[32mString\u001b[0m] = \u001b[33mArrayBuffer\u001b[0m(\n",
       "  \u001b[32m\"\"\"\n",
       "{\"RECORDCOUNT\":\"4658\",\"PAGECOUNT\":\"50\",\"PAGE\":\"1\",\"TOTALPAGE\":\"94\",\"data\":[{\"ADDRESS\":\"林森南路4之2號7樓\",\"ADDR_INDZONE\":\"\",\"ADDR_NO_DESCRIPT\":\"台北市中正區\",\"APPEAR_DATE\":\"20170819\",\"APPEAR_TIME\":\"20170819180509\",\"C\":\"383a43293c363e683c423b1d1d1d1d5f2443a363189j56\",\"CERT_ALL_DESCRIPT\":\"\",\"DESCRIPTION\":\"1.建置與開發網站前後台\\n2.資料庫建置與規劃\\n3.程式開發與維護\\n4.熟悉.net(C#、VB) C#尤佳，及MS SQL\\n5.熟悉Ajax、Java Script、CSS等相關網頁開發技術\\n6.熟MVC開發架構佳\\n7.具備三層式架構，N-Tier及OOP經驗，若有Team Foundation 經驗佳\",\"DIS_LEVEL\":\"0\",\"DIS_LEVEL2\":\"0\",\"DIS_LEVEL3\":\"0\",\"DIS_ROLE\":\"0\",\"DIS_ROLE2\":\"0\",\"DIS_ROLE3\":\"0\",\"DRIVER\":\"0\",\"HANDICOMPENDIUM\":\"0\",\"INDCAT\":\"資訊軟體服務\",\"J\":\"5d49426c335b3e55303139622b2d361c93f39416b3f453e2020202064373a2524290j00\",\"JOB\":\"Asp.Net ,C# 程式設計師\",\"JOBCAT_DESCRIPT\":\"軟體設計工程師@Internet程式設計師@MIS程式設計師\",\"JOBSKILL_ALL_DESC\":\"\",\"JOB_ADDRESS\":\"林森南路4之2號7樓\",\"JOB_ADDR_NO_DESCRIPT\":\"台北市中正區\",\"LANGUAGE1\":\"001111\",\"LANGUAGE2\":\"001111\",\"LANGUAGE3\":\"001111\",\"LAT\":\"25.043836\",\"LINK\":\"http://www.frog-jump.com/\",\"LON\":\"121.522938\",\"MAJOR_CAT_DESCRIPT\":\"類目@類目@類目\",\"MINBINARY_EDU\":\"-1\",\"NAME\":\"德義資訊股份有限公司\",\"NEED_EMP\":\"1\",\"NEED_EMP1\":\"3\",\"OTHERS\":\"1. ASP.NET 2.0或以上，ASP.NET 1.1經驗2年以上亦可，若有ASP.NET 3.5經驗尤佳\\n2. 具備 UML 觀念 \\n3. Object-relational mapping，LINQ、ADO.NET Entity Framework \\n4. 具備Microsoft 相關認證尤佳\\n5. 對程式開發及軟體工程具有熱情，願意嘗試新技術及架構\\n6. 願意以負責任的態度，對工作及所產出之程式進行品質管理\\n7. 良好的溝通與傾聽能力、團隊配合度高，負責任，可獨立執行交辦任務進行程式開發者，學習力強\",\"PCSKILL_ALL_DESC\":\"ASP.NET C#\",\"PERIOD\":\"03\",\"PRODUCT\":\"＊軟體開發服務\\n包含系統建置、系統整合及顧問服務\\n\\n\u001b[33m...\u001b[0m\n",
       "\u001b[36mjobCountMap\u001b[0m: \u001b[32mcollection\u001b[0m.\u001b[32mmutable\u001b[0m.\u001b[32mMap\u001b[0m[\u001b[32mJsValue\u001b[0m, \u001b[32mInt\u001b[0m] = \u001b[33mMap\u001b[0m(\n",
       "  \"新北市泰山區\" -> \u001b[32m3\u001b[0m,\n",
       "  \"彰化縣和美鎮\" -> \u001b[32m1\u001b[0m,\n",
       "  \"基隆市七堵區\" -> \u001b[32m1\u001b[0m,\n",
       "  \"新北市三重區\" -> \u001b[32m18\u001b[0m,\n",
       "  \"台中市梧棲區\" -> \u001b[32m1\u001b[0m,\n",
       "  \"桃園市平鎮區\" -> \u001b[32m4\u001b[0m,\n",
       "  \"高雄市鹽埕區\" -> \u001b[32m4\u001b[0m,\n",
       "  \"江蘇省蘇州市\" -> \u001b[32m1\u001b[0m,\n",
       "  \"台北市內湖區\" -> \u001b[32m325\u001b[0m,\n",
       "  \"高雄市大寮區\" -> \u001b[32m4\u001b[0m,\n",
       "  \"菲律賓\" -> \u001b[32m22\u001b[0m,\n",
       "  \"彰化縣伸港鄉\" -> \u001b[32m2\u001b[0m,\n",
       "  \"高雄市三民區\" -> \u001b[32m1\u001b[0m,\n",
       "  \"彰化縣線西鄉\" -> \u001b[32m1\u001b[0m,\n",
       "  \"新竹縣寶山鄉\" -> \u001b[32m14\u001b[0m,\n",
       "  \"新北市鶯歌區\" -> \u001b[32m3\u001b[0m,\n",
       "  \"彰化縣鹿港鎮\" -> \u001b[32m1\u001b[0m,\n",
       "  \"新北市新莊區\" -> \u001b[32m12\u001b[0m,\n",
       "  \"台中市太平區\" -> \u001b[32m6\u001b[0m,\n",
       "\u001b[33m...\u001b[0m"
      ]
     },
     "metadata": {},
     "output_type": "display_data"
    }
   ],
   "source": [
    "// 對Array裡的每個Response做統計處理\n",
    "// 找出各地區工作的總量\n",
    "\n",
    "// 準備好一個空的Map資料結構\n",
    "var forCalculate = traditionArray.clone\n",
    "var jobCountMap= scala.collection.mutable.Map.empty[JsValue,Int]\n",
    "\n",
    "// 透過迴圈的方式，逐筆把數據內的地區位置做統計\n",
    "for (i <- 0 until forCalculate.length){\n",
    "  for ( locate <- Json.parse(forCalculate(i)).\\(\"data\").\\\\(\"ADDR_NO_DESCRIPT\")){\n",
    "    jobCountMap.update(locate,jobCountMap.getOrElse(locate,0)+1)\n",
    "  }\n",
    "}\n",
    "\n",
    "// println(jobCountMap)"
   ]
  },
  {
   "cell_type": "code",
   "execution_count": 5,
   "metadata": {
    "collapsed": false
   },
   "outputs": [
    {
     "data": {
      "text/plain": [
       "\u001b[36msortJobCountMap\u001b[0m: \u001b[32mSeq\u001b[0m[(\u001b[32mJsValue\u001b[0m, \u001b[32mInt\u001b[0m)] = \u001b[33mArrayBuffer\u001b[0m(\n",
       "  \u001b[33m\u001b[0m(\"彰化縣和美鎮\", \u001b[32m1\u001b[0m),\n",
       "  \u001b[33m\u001b[0m(\"基隆市七堵區\", \u001b[32m1\u001b[0m),\n",
       "  \u001b[33m\u001b[0m(\"台中市梧棲區\", \u001b[32m1\u001b[0m),\n",
       "  \u001b[33m\u001b[0m(\"江蘇省蘇州市\", \u001b[32m1\u001b[0m),\n",
       "  \u001b[33m\u001b[0m(\"高雄市三民區\", \u001b[32m1\u001b[0m),\n",
       "  \u001b[33m\u001b[0m(\"彰化縣線西鄉\", \u001b[32m1\u001b[0m),\n",
       "  \u001b[33m\u001b[0m(\"彰化縣鹿港鎮\", \u001b[32m1\u001b[0m),\n",
       "  \u001b[33m\u001b[0m(\"台中市大里區\", \u001b[32m1\u001b[0m),\n",
       "  \u001b[33m\u001b[0m(\"美國加利佛尼亞州\", \u001b[32m1\u001b[0m),\n",
       "  \u001b[33m\u001b[0m(\"雲林縣虎尾鎮\", \u001b[32m1\u001b[0m),\n",
       "  \u001b[33m\u001b[0m(\"彰化縣大村鄉\", \u001b[32m1\u001b[0m),\n",
       "  \u001b[33m\u001b[0m(\"台南市仁德區\", \u001b[32m1\u001b[0m),\n",
       "  \u001b[33m\u001b[0m(\"廣東省東莞市\", \u001b[32m1\u001b[0m),\n",
       "  \u001b[33m\u001b[0m(\"台中市大甲區\", \u001b[32m1\u001b[0m),\n",
       "  \u001b[33m\u001b[0m(\"高雄市路竹區\", \u001b[32m1\u001b[0m),\n",
       "  \u001b[33m\u001b[0m(\"台中市霧峰區\", \u001b[32m1\u001b[0m),\n",
       "  \u001b[33m\u001b[0m(\"新加坡\", \u001b[32m1\u001b[0m),\n",
       "  \u001b[33m\u001b[0m(\"安徽省合肥市\", \u001b[32m1\u001b[0m),\n",
       "  \u001b[33m\u001b[0m(\"彰化縣彰化市\", \u001b[32m1\u001b[0m),\n",
       "\u001b[33m...\u001b[0m\n",
       "\u001b[36mtopTen\u001b[0m: \u001b[32mSeq\u001b[0m[(\u001b[32mJsValue\u001b[0m, \u001b[32mInt\u001b[0m)] = \u001b[33mArrayBuffer\u001b[0m(\n",
       "  \u001b[33m\u001b[0m(\"新北市板橋區\", \u001b[32m64\u001b[0m),\n",
       "  \u001b[33m\u001b[0m(\"新北市中和區\", \u001b[32m86\u001b[0m),\n",
       "  \u001b[33m\u001b[0m(\"台北市南港區\", \u001b[32m91\u001b[0m),\n",
       "  \u001b[33m\u001b[0m(\"新竹市\", \u001b[32m113\u001b[0m),\n",
       "  \u001b[33m\u001b[0m(\"台北市中山區\", \u001b[32m140\u001b[0m),\n",
       "  \u001b[33m\u001b[0m(\"台北市松山區\", \u001b[32m143\u001b[0m),\n",
       "  \u001b[33m\u001b[0m(\"台北市中正區\", \u001b[32m150\u001b[0m),\n",
       "  \u001b[33m\u001b[0m(\"台北市信義區\", \u001b[32m165\u001b[0m),\n",
       "  \u001b[33m\u001b[0m(\"台北市大安區\", \u001b[32m270\u001b[0m),\n",
       "  \u001b[33m\u001b[0m(\"台北市內湖區\", \u001b[32m325\u001b[0m)\n",
       ")"
      ]
     },
     "metadata": {},
     "output_type": "display_data"
    }
   ],
   "source": [
    "// 挑出前十個工作機會多的地區\n",
    "\n",
    "// 此二句係以 declarative style，可以稍微觀察到這種寫法，在對於了解該階段時的資料長相時，是有所助益的\n",
    "val sortJobCountMap = jobCountMap.toSeq.sortBy( record => record._2 ) \n",
    "val topTen = sortJobCountMap.takeRight(10)\n",
    "\n"
   ]
  },
  {
   "cell_type": "code",
   "execution_count": 6,
   "metadata": {
    "collapsed": false
   },
   "outputs": [
    {
     "name": "stdout",
     "output_type": "stream",
     "text": [
      "<html>\n",
      "  <head>\n",
      "    <script src=\"https://cdn.jsdelivr.net/webjars/org.webjars.bower/d3/3.5.17/d3.min.js\" charset=\"utf-8\"></script>\n",
      "<script src=\"https://cdn.jsdelivr.net/webjars/org.webjars.bower/vega/2.6.3/vega.min.js\" charset=\"utf-8\"></script>\n",
      "<script src=\"https://cdn.jsdelivr.net/webjars/org.webjars.bower/vega-lite/1.2.0/vega-lite.min.js\" charset=\"utf-8\"></script>\n",
      "<script src=\"https://vega.github.io/vega-editor/vendor/vega-embed.js\" charset=\"utf-8\"></script>\n",
      "  </head>\n",
      "  <body>\n",
      " <script>\n",
      "   var embedSpec = {\n",
      "     mode: \"vega-lite\",\n",
      "     spec: {\n",
      "  \"mark\" : \"bar\",\n",
      "  \"encoding\" : {\n",
      "    \"x\" : {\n",
      "      \"field\" : \"Country\",\n",
      "      \"type\" : \"ordinal\"\n",
      "    },\n",
      "    \"y\" : {\n",
      "      \"field\" : \"jobCount\",\n",
      "      \"type\" : \"quantitative\"\n",
      "    }\n",
      "  },\n",
      "  \"description\" : \"Java Job Count by each location\",\n",
      "  \"data\" : {\n",
      "    \"values\" : [\n",
      "      {\n",
      "        \"Country\" : \"\\\"新北市板橋區\\\"\",\n",
      "        \"jobCount\" : 64\n",
      "      },\n",
      "      {\n",
      "        \"Country\" : \"\\\"新北市中和區\\\"\",\n",
      "        \"jobCount\" : 86\n",
      "      },\n",
      "      {\n",
      "        \"Country\" : \"\\\"台北市南港區\\\"\",\n",
      "        \"jobCount\" : 91\n",
      "      },\n",
      "      {\n",
      "        \"Country\" : \"\\\"新竹市\\\"\",\n",
      "        \"jobCount\" : 113\n",
      "      },\n",
      "      {\n",
      "        \"Country\" : \"\\\"台北市中山區\\\"\",\n",
      "        \"jobCount\" : 140\n",
      "      },\n",
      "      {\n",
      "        \"Country\" : \"\\\"台北市松山區\\\"\",\n",
      "        \"jobCount\" : 143\n",
      "      },\n",
      "      {\n",
      "        \"Country\" : \"\\\"台北市中正區\\\"\",\n",
      "        \"jobCount\" : 150\n",
      "      },\n",
      "      {\n",
      "        \"Country\" : \"\\\"台北市信義區\\\"\",\n",
      "        \"jobCount\" : 165\n",
      "      },\n",
      "      {\n",
      "        \"Country\" : \"\\\"台北市大安區\\\"\",\n",
      "        \"jobCount\" : 270\n",
      "      },\n",
      "      {\n",
      "        \"Country\" : \"\\\"台北市內湖區\\\"\",\n",
      "        \"jobCount\" : 325\n",
      "      }\n",
      "    ]\n",
      "  }\n",
      "}\n",
      "   }\n",
      "   vg.embed(\"#vegas-000d6055-fae9-4669-842a-5ff18f681f3a\", embedSpec, function(error, result) {});\n",
      " </script>\n",
      " <div id='vegas-000d6055-fae9-4669-842a-5ff18f681f3a'></div>\n",
      "    </body>\n",
      "</html>\n"
     ]
    },
    {
     "data": {
      "text/plain": [
       "\u001b[36mvisualTopTen\u001b[0m: \u001b[32mArrayBuffer\u001b[0m[\u001b[32mMap\u001b[0m[\u001b[32mString\u001b[0m, \u001b[32mAny\u001b[0m]] = \u001b[33mArrayBuffer\u001b[0m(\n",
       "  \u001b[33mMap\u001b[0m(\u001b[32m\"Country\"\u001b[0m -> \"新北市板橋區\", \u001b[32m\"jobCount\"\u001b[0m -> 64),\n",
       "  \u001b[33mMap\u001b[0m(\u001b[32m\"Country\"\u001b[0m -> \"新北市中和區\", \u001b[32m\"jobCount\"\u001b[0m -> 86),\n",
       "  \u001b[33mMap\u001b[0m(\u001b[32m\"Country\"\u001b[0m -> \"台北市南港區\", \u001b[32m\"jobCount\"\u001b[0m -> 91),\n",
       "  \u001b[33mMap\u001b[0m(\u001b[32m\"Country\"\u001b[0m -> \"新竹市\", \u001b[32m\"jobCount\"\u001b[0m -> 113),\n",
       "  \u001b[33mMap\u001b[0m(\u001b[32m\"Country\"\u001b[0m -> \"台北市中山區\", \u001b[32m\"jobCount\"\u001b[0m -> 140),\n",
       "  \u001b[33mMap\u001b[0m(\u001b[32m\"Country\"\u001b[0m -> \"台北市松山區\", \u001b[32m\"jobCount\"\u001b[0m -> 143),\n",
       "  \u001b[33mMap\u001b[0m(\u001b[32m\"Country\"\u001b[0m -> \"台北市中正區\", \u001b[32m\"jobCount\"\u001b[0m -> 150),\n",
       "  \u001b[33mMap\u001b[0m(\u001b[32m\"Country\"\u001b[0m -> \"台北市信義區\", \u001b[32m\"jobCount\"\u001b[0m -> 165),\n",
       "  \u001b[33mMap\u001b[0m(\u001b[32m\"Country\"\u001b[0m -> \"台北市大安區\", \u001b[32m\"jobCount\"\u001b[0m -> 270),\n",
       "  \u001b[33mMap\u001b[0m(\u001b[32m\"Country\"\u001b[0m -> \"台北市內湖區\", \u001b[32m\"jobCount\"\u001b[0m -> 325)\n",
       ")\n",
       "\u001b[32mimport \u001b[36mvegas._\u001b[0m\n",
       "\u001b[32mimport \u001b[36mvegas.data.External._\u001b[0m\n",
       "\u001b[36mshowHtml\u001b[0m: \u001b[32mString\u001b[0m = \u001b[32m\"\"\"\n",
       "<html>\n",
       "  <head>\n",
       "    <script src=\"https://cdn.jsdelivr.net/webjars/org.webjars.bower/d3/3.5.17/d3.min.js\" charset=\"utf-8\"></script>\n",
       "<script src=\"https://cdn.jsdelivr.net/webjars/org.webjars.bower/vega/2.6.3/vega.min.js\" charset=\"utf-8\"></script>\n",
       "<script src=\"https://cdn.jsdelivr.net/webjars/org.webjars.bower/vega-lite/1.2.0/vega-lite.min.js\" charset=\"utf-8\"></script>\n",
       "<script src=\"https://vega.github.io/vega-editor/vendor/vega-embed.js\" charset=\"utf-8\"></script>\n",
       "  </head>\n",
       "  <body>\n",
       " <script>\n",
       "   var embedSpec = {\n",
       "     mode: \"vega-lite\",\n",
       "     spec: {\n",
       "  \"mark\" : \"bar\",\n",
       "  \"encoding\" : {\n",
       "    \"x\" : {\n",
       "\u001b[33m...\u001b[0m"
      ]
     },
     "metadata": {},
     "output_type": "display_data"
    }
   ],
   "source": [
    "// 整理成vegas所需要的可視化資料格式\n",
    "\n",
    "var visualTopTen = ArrayBuffer.empty[Map[String,Any]];\n",
    "\n",
    "for(i <- 0 until topTen.length ){\n",
    "  visualTopTen.+=(\n",
    "    Map(\"Country\"->topTen(i)._1,\"jobCount\"-> topTen(i)._2)\n",
    "  )\n",
    "}\n",
    "\n",
    "import vegas._\n",
    "import vegas.data.External._\n",
    "\n",
    "// 轉成可視化的網頁\n",
    "\n",
    "val showHtml = Vegas(\"Java Job Count by each location\")\n",
    "  .withData( visualTopTen )\n",
    "  .encodeX(\"Country\", Ordinal)\n",
    "  .encodeY(\"jobCount\", Quantitative)\n",
    "  .mark(Bar).html.pageHTML()\n",
    "\n",
    "println(showHtml)"
   ]
  },
  {
   "cell_type": "code",
   "execution_count": 7,
   "metadata": {
    "collapsed": false
   },
   "outputs": [
    {
     "data": {
      "text/plain": [
       "\u001b[36mnewHtmlFile\u001b[0m: \u001b[32mjava\u001b[0m.\u001b[32mio\u001b[0m.\u001b[32mFileWriter\u001b[0m = java.io.FileWriter@42c6c97c"
      ]
     },
     "metadata": {},
     "output_type": "display_data"
    }
   ],
   "source": [
    "// 將靜態網頁寫成檔案\n",
    "var newHtmlFile = new java.io.FileWriter(\"104-Demo-Imperative.html\",false)\n",
    "\n",
    "try{\n",
    "  newHtmlFile.write(showHtml)\n",
    "}finally{\n",
    "  newHtmlFile.close()\n",
    "}"
   ]
  },
  {
   "cell_type": "code",
   "execution_count": null,
   "metadata": {
    "collapsed": true
   },
   "outputs": [],
   "source": []
  }
 ],
 "metadata": {
  "kernelspec": {
   "display_name": "Scala 2.11",
   "language": "scala211",
   "name": "scala211"
  },
  "language_info": {
   "codemirror_mode": "text/x-scala",
   "file_extension": ".scala",
   "mimetype": "text/x-scala",
   "name": "scala211",
   "pygments_lexer": "scala",
   "version": "2.11.7"
  }
 },
 "nbformat": 4,
 "nbformat_minor": 1
}

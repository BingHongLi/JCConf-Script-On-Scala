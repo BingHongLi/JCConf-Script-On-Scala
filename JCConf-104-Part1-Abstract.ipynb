{
 "cells": [
  {
   "cell_type": "code",
   "execution_count": null,
   "metadata": {
    "collapsed": true
   },
   "outputs": [],
   "source": [
    "/*\n",
    "\n",
    "相傳工程師的歲月短暫，在這短促的時光，不求繁華一夢，但要使自己不致飢寒相交。\n",
    "於是求一件好差使，便成了一樁要緊的事。\n",
    "\n",
    "在此階段，學員將要挑戰，調用104提供的api，\n",
    "調閱職缺數據，整併成自己想要的資訊長相，以便自己快速理解市場趨勢。\n",
    "\n",
    "流程\n",
    "調用API->萃取數據->整理格式->轉化成可視化網頁->網站呈現\n",
    "\n",
    "*/"
   ]
  },
  {
   "cell_type": "code",
   "execution_count": null,
   "metadata": {
    "collapsed": true
   },
   "outputs": [],
   "source": [
    "/*\n",
    "第一階段\n",
    "\n",
    "透過http，調用api。\n",
    "\n",
    "載入scalaj-http，輸入相應uri及query string，取得數據\n",
    "\n",
    "*/"
   ]
  },
  {
   "cell_type": "code",
   "execution_count": null,
   "metadata": {
    "collapsed": true
   },
   "outputs": [],
   "source": [
    "/*\n",
    "\n",
    "第二階段\n",
    "\n",
    "解析Json，整理出所需要的數據。\n",
    "\n",
    "載入play-json，整理第一階段所得到的數據\n",
    "\n",
    "*/"
   ]
  },
  {
   "cell_type": "code",
   "execution_count": null,
   "metadata": {
    "collapsed": true
   },
   "outputs": [],
   "source": [
    "/*\n",
    "\n",
    "第三階段\n",
    "\n",
    "轉換成可視化套件所需要的資料格式，並放入可視化套件中，生成靜態網頁\n",
    "\n",
    "載入vegas，使用vegas繪製網頁\n",
    "\n",
    "存成本地端網頁檔案。\n",
    "\n",
    "*/"
   ]
  },
  {
   "cell_type": "code",
   "execution_count": null,
   "metadata": {
    "collapsed": true
   },
   "outputs": [],
   "source": [
    "/*\n",
    "第四階段\n",
    "\n",
    "將生成的網頁 掛載在 Http Server上，以供自己或他人調用觀察這些工作數據\n",
    "\n",
    "載入http4s，掛載服務\n",
    "*/"
   ]
  }
 ],
 "metadata": {
  "kernelspec": {
   "display_name": "Scala 2.11",
   "language": "scala211",
   "name": "scala211"
  },
  "language_info": {
   "codemirror_mode": "text/x-scala",
   "file_extension": ".scala",
   "mimetype": "text/x-scala",
   "name": "scala211",
   "pygments_lexer": "scala",
   "version": "2.11.7"
  }
 },
 "nbformat": 4,
 "nbformat_minor": 1
}

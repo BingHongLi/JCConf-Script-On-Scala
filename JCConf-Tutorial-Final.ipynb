{
 "cells": [
  {
   "cell_type": "code",
   "execution_count": null,
   "metadata": {
    "collapsed": true
   },
   "outputs": [],
   "source": [
    "/*\n",
    "\n",
    "Scala特性豐富，包容性強；可以簡單，可以困難。\n",
    "\n",
    "能以靜態語言的方式編寫，\n",
    "透過直譯器與型別推論，也能夠以類動態語言的方式進行開發。\n",
    "\n",
    "能以imperative的風格撰寫程式，也能透過declarative的風格開發應用。\n",
    "\n",
    "面臨大型系統開發時，能用物件導向的方式面對；進行資料流處理的應用時，也能使用函數導向的方式完成。\n",
    "面臨開發大型資料處理系統時，更可結合物件導向與函數導向的方式來完成應用。\n",
    "\n",
    "有很多特色支撐Scala作為FP導向的語言，其中容器扮演了很大的一個角色。\n",
    "\n",
    "現在就讓我們來簡單地嘗試看看，這些容器。\n",
    "\n",
    "*/"
   ]
  },
  {
   "cell_type": "code",
   "execution_count": 9,
   "metadata": {
    "collapsed": false
   },
   "outputs": [
    {
     "data": {
      "text/plain": [
       "\u001b[36mrawDataArray\u001b[0m: \u001b[32mArray\u001b[0m[\u001b[32mInt\u001b[0m] = \u001b[33mArray\u001b[0m(\u001b[32m1\u001b[0m, \u001b[32m2\u001b[0m, \u001b[32m3\u001b[0m, \u001b[32m4\u001b[0m, \u001b[32m5\u001b[0m, \u001b[32m6\u001b[0m)\n",
       "\u001b[36mmoreThanThreeData\u001b[0m: \u001b[32mArray\u001b[0m[\u001b[32mOption\u001b[0m[\u001b[32mInt\u001b[0m]] = \u001b[33mArray\u001b[0m(None, None, None, \u001b[33mSome\u001b[0m(\u001b[32m4\u001b[0m), \u001b[33mSome\u001b[0m(\u001b[32m5\u001b[0m), \u001b[33mSome\u001b[0m(\u001b[32m6\u001b[0m))"
      ]
     },
     "metadata": {},
     "output_type": "display_data"
    }
   ],
   "source": [
    "/*\n",
    "Option\n",
    "  應用場景\n",
    "    在資料處理時，有些資料品質相對不好，比如欄位不齊或是值域不在合理範圍內時，我們需要捨棄該些資料，\n",
    "    對其他資料進行保留做後續處理時。\n",
    "    \n",
    "  子類別\n",
    "    Some[T]  // 有數值\n",
    "    None  // 無數值\n",
    "\n",
    "*/\n",
    "val rawDataArray = Array(1,2,3,4,5,6)\n",
    "val moreThanThreeData = rawDataArray.map{ element =>  \n",
    "  if(element > 3) Some(element) else None \n",
    "}"
   ]
  },
  {
   "cell_type": "code",
   "execution_count": null,
   "metadata": {
    "collapsed": true
   },
   "outputs": [],
   "source": [
    "/*\n",
    "Try\n",
    "  應用場景\n",
    "    當在處理資料時，面對處理流程上可能會有例外時，可用Try包覆，\n",
    "    Scala會將資料分成兩類，處理成功或失敗的數據。\n",
    "\n",
    "  \n",
    "  子類別\n",
    "    Success[T]\n",
    "    Failure(exception: Throwable)  \n",
    "*/\n",
    "\n",
    "val rawDataArray = Array(\"John|24|male\",\"Marry|30|female\",\"ohn|dd|made\",\"alice|30|female\",\"bing|18|male\",\"||\",\"dd|dd\",\"|dd|aa\")\n",
    "\n",
    "import scala.util.Try\n",
    "\n",
    "def parseData(record:String,rex:String =\"\"\"\\|\"\"\"):Option[Tuple3[Option[String],Option[Int],Option[String]]] = {\n",
    "  Try{\n",
    "    val splitData = record.split(rex)\n",
    "    (\n",
    "      if (splitData(0).isEmpty) None else Some(splitData(0)),\n",
    "      Try(splitData(1).toInt).toOption,\n",
    "      Try(splitData(2)).toOption\n",
    "    )\n",
    "  }.toOption\n",
    "}\n",
    "\n",
    "rawDataArray.map{ data =>\n",
    "  val cleanData  = parseData(data)\n",
    "  cleanData\n",
    "}"
   ]
  },
  {
   "cell_type": "code",
   "execution_count": null,
   "metadata": {
    "collapsed": true
   },
   "outputs": [],
   "source": [
    "/*\n",
    "Either\n",
    "  應用場景\n",
    "\n",
    "*/"
   ]
  },
  {
   "cell_type": "code",
   "execution_count": null,
   "metadata": {
    "collapsed": true
   },
   "outputs": [],
   "source": [
    "/*\n",
    "Future\n",
    "  應用場景\n",
    "\n",
    "*/"
   ]
  }
 ],
 "metadata": {
  "kernelspec": {
   "display_name": "Scala 2.11",
   "language": "scala211",
   "name": "scala211"
  },
  "language_info": {
   "codemirror_mode": "text/x-scala",
   "file_extension": ".scala",
   "mimetype": "text/x-scala",
   "name": "scala211",
   "pygments_lexer": "scala",
   "version": "2.11.7"
  }
 },
 "nbformat": 4,
 "nbformat_minor": 1
}

{
 "cells": [
  {
   "cell_type": "code",
   "execution_count": null,
   "metadata": {
    "collapsed": true
   },
   "outputs": [],
   "source": [
    "/*\n",
    "Lab1 \n",
    "\n",
    "使用val 宣告一個變數，並嘗試改變其內容值\n",
    "使用var 宣告一個變數，並嘗試改變其內容值\n",
    "*/\n",
    "\n"
   ]
  },
  {
   "cell_type": "code",
   "execution_count": null,
   "metadata": {
    "collapsed": false
   },
   "outputs": [],
   "source": [
    "/*\n",
    "Lab2\n",
    "\n",
    "宣告一個變數，內容為字串，值需要為 \"Hello JCConf\"\n",
    "宣告一個變數，內容為整數，值需要為 2017\n",
    "拼貼成 一個新字串\n",
    "*/\n"
   ]
  },
  {
   "cell_type": "code",
   "execution_count": null,
   "metadata": {
    "collapsed": true
   },
   "outputs": [],
   "source": [
    "/*\n",
    "Lab3\n",
    "\n",
    "宣告一個mutable 的 ListBuffer ，並在後方加上值\n",
    "需取得一個 ListBuffer[Int](1,2,3,4)\n",
    "宣告一個immutable 的 List ，並在後方加上值\n",
    "需取得一個 List[Int](1,2,3,4)\n",
    "宣告一個mutable的 Map，並在裡面加入資料\n",
    "需取得一個 Map[String,Int](\"id\"->1,\"score\"->45)\n",
    "*/\n"
   ]
  },
  {
   "cell_type": "code",
   "execution_count": null,
   "metadata": {
    "collapsed": true
   },
   "outputs": [],
   "source": [
    "/*\n",
    "Lab4\n",
    "\n",
    "創立一組tuple3，並嘗試從tuple3中取出值\n",
    "*/"
   ]
  },
  {
   "cell_type": "code",
   "execution_count": null,
   "metadata": {
    "collapsed": true
   },
   "outputs": [],
   "source": [
    "/*\n",
    "Lab5\n",
    "\n",
    "利用basicRange 此 collection，做出 ListBuffer(5,6,7,8,9)\n",
    "利用basicRange，做出 ArrayBuffer(0,2,4) \n",
    "*/\n",
    "var basicRange  = 0 to 4"
   ]
  },
  {
   "cell_type": "code",
   "execution_count": null,
   "metadata": {
    "collapsed": true
   },
   "outputs": [],
   "source": [
    "/*\n",
    "Lab6\n",
    "\n",
    "引用java的ArrayList\n",
    "將javaList轉換成 scala的collection，並用迴圈將內容改成 4,5,6\n",
    "\n",
    "*/\n",
    "val javaList = new java.util.ArrayList[Int]\n",
    "javaList.add(1)\n",
    "javaList.add(2)\n",
    "javaList.add(3)\n",
    "for(i <-javaList.asScala) yield { i + 3}"
   ]
  },
  {
   "cell_type": "code",
   "execution_count": null,
   "metadata": {
    "collapsed": true
   },
   "outputs": [],
   "source": [
    "/*\n",
    "Lab7\n",
    "\n",
    "在jupyter notebook，點開lab6.scala\n",
    "照著講義上樣板，撰寫一個 scalas的樣板\n",
    "在terminal 執行scalas lab6.scala\n",
    "需印出 hello world!\n",
    "*/"
   ]
  },
  {
   "cell_type": "code",
   "execution_count": null,
   "metadata": {
    "collapsed": true
   },
   "outputs": [],
   "source": [
    "/*\n",
    "Lab8\n",
    "\n",
    "透過前面所學的Step1-7與Lab1-7，完成此Lab\n",
    "使用scala script，讀取lab8.html，引入Jsoup套件，使用Jsoup套件萃取威力彩數據，並整理成一份 欄位分隔之資料\n",
    "*/"
   ]
  },
  {
   "cell_type": "code",
   "execution_count": null,
   "metadata": {
    "collapsed": true
   },
   "outputs": [],
   "source": [
    "/*\n",
    "Lab9\n",
    "\n",
    "使用scala-http訪問此api\n",
    "https://jsonplaceholder.typicode.com/photos\n",
    "取得其body，並將body協派至 lab9result 這個變數\n",
    "*/"
   ]
  },
  {
   "cell_type": "code",
   "execution_count": null,
   "metadata": {
    "collapsed": true
   },
   "outputs": [],
   "source": [
    "/*\n",
    "Lab10\n",
    "\n",
    "使用Lab9的產物， lab9result當做要parse成json的字串\n",
    "轉成json之後，針對albumId 此欄位做統計，看這一整包照片資訊中，每本相簿各有幾張相片\n",
    "以Map[String,Int]的方式封裝統計結果\n",
    "\n",
    "*/"
   ]
  },
  {
   "cell_type": "code",
   "execution_count": null,
   "metadata": {
    "collapsed": true
   },
   "outputs": [],
   "source": [
    "/*\n",
    "Lab11\n",
    "\n",
    "使用Lab10的產物， lab10result，進一步整理成視覺化所需要的data格式 Seq[Map[String,Any]]\n",
    "套用vegas套件轉換成bar圖，輸出成html字串， 協派至 lab11result 此變數。\n",
    "\n",
    "*/"
   ]
  }
 ],
 "metadata": {
  "kernelspec": {
   "display_name": "Scala 2.11",
   "language": "scala211",
   "name": "scala211"
  },
  "language_info": {
   "codemirror_mode": "text/x-scala",
   "file_extension": ".scala",
   "mimetype": "text/x-scala",
   "name": "scala211",
   "pygments_lexer": "scala",
   "version": "2.11.7"
  }
 },
 "nbformat": 4,
 "nbformat_minor": 1
}
